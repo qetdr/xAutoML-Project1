{
 "cells": [
  {
   "cell_type": "markdown",
   "metadata": {},
   "source": [
    "## Practical project 1 - 01 - Dataset adjustments\n",
    "\n",
    "Explainable Automated Machine Learning course, LTAT.02.023\n",
    "University of Tartu, Institute of Computer Science\n",
    "\n",
    "Each team will work on a machine learning problem from end-to-end.\n",
    "\n",
    "#### Project's general description:\n",
    "<details>\n",
    "  <summary>Click here for more information!</summary>\n",
    "\n",
    "  Each team will work on a machine learning problem from end-to-end.\n",
    "\n",
    "  **Step 1:** Choose a dataset. Build and train a baseline for comparison. To construct the baseline you do the following:\n",
    "  * Try a set of possible machine learning algorithms (**13 algorithms**) using their **default hyperparameters** and choose the one with the highest performance for comparison.\n",
    "\n",
    "\n",
    "  **Step 2:** Based on the problem at hand, you study:\n",
    "  * the **potential pipeline structure**,\n",
    "  * **algorithms**\n",
    "  * or **feature transformers** at each step,\n",
    "  * **hyper-parameters ranges**.\n",
    "  \n",
    "  Use hyperOpt with the potential search space to beat the baseline.\n",
    "\n",
    "\n",
    "  **Step 3:** Monitor the performance of the constructed pipeline from the previous step across different time budgets (number of iterations) and report the least time budget that you are able to outperform the baseline.\n",
    "\n",
    "\n",
    "  **Step 4:** Determine whether the difference in performance between the constructed pipeline and the baseline is statistically significant.\n",
    "\n",
    "</details>\n",
    "\n",
    "#### Dataset used:\n",
    "<details>\n",
    "  <summary>Click here for more information!</summary>\n",
    "\n",
    "  Dataset is taken from Kaggle competition - Drinking Water Quality Prediction. The goal of the competition is to create a model that predicts the water quality in Estonian water stations based on the government's open data of the previous measurements.\n",
    "\n",
    "  [Reference](https://www.kaggle.com/competitions/copy-of-drinking-water-quality)\n",
    "</details>\n",
    "\n",
    "#### References:\n",
    "<details>\n",
    "  <summary>Click here for more information!</summary>\n",
    "\n",
    "  [MLJ for Data Scientists in Two Hours](https://juliaai.github.io/DataScienceTutorials.jl/end-to-end/telco/)\n",
    "</details>"
   ]
  },
  {
   "cell_type": "markdown",
   "metadata": {},
   "source": [
    "### Activate the current project. Check the packages available"
   ]
  },
  {
   "cell_type": "code",
   "execution_count": null,
   "metadata": {},
   "outputs": [],
   "source": [
    "using Pkg\n",
    "\n",
    "Pkg.activate(\".\")\n",
    "Pkg.status()"
   ]
  },
  {
   "cell_type": "markdown",
   "metadata": {},
   "source": [
    "### Get packages to use"
   ]
  },
  {
   "cell_type": "code",
   "execution_count": 2,
   "metadata": {},
   "outputs": [],
   "source": [
    "using DataFrames\n",
    "using CSV\n",
    "using MLJ"
   ]
  },
  {
   "cell_type": "markdown",
   "metadata": {},
   "source": [
    "### Do initial dataset transformations"
   ]
  },
  {
   "cell_type": "markdown",
   "metadata": {},
   "source": [
    "#### Get cleaned train/test data"
   ]
  },
  {
   "cell_type": "code",
   "execution_count": 9,
   "metadata": {},
   "outputs": [
    {
     "data": {
      "text/html": [
       "<div><div style = \"float: left;\"><span>3×29 DataFrame</span></div><div style = \"clear: both;\"></div></div><div class = \"data-frame\" style = \"overflow-x: scroll;\"><table class = \"data-frame\" style = \"margin-bottom: 6px;\"><thead><tr class = \"header\"><th class = \"rowNumber\" style = \"font-weight: bold; text-align: right;\">Row</th><th style = \"text-align: left;\">Column1</th><th style = \"text-align: left;\">station_id</th><th style = \"text-align: left;\">Ammonium_2019</th><th style = \"text-align: left;\">Ammonium_2020</th><th style = \"text-align: left;\">Coli-like-bacteria_2019</th><th style = \"text-align: left;\">Coli-like-bacteria_2020</th><th style = \"text-align: left;\">Colony-count-at-22-C_2019</th><th style = \"text-align: left;\">Colony-count-at-22-C_2020</th><th style = \"text-align: left;\">Color-Pt/Co-scale_2019</th><th style = \"text-align: left;\">Color-Pt/Co-scale_2020</th><th style = \"text-align: left;\">Electrical-conductivity_2019</th><th style = \"text-align: left;\">Electrical-conductivity_2020</th><th style = \"text-align: left;\">Escherichia-coli_2019</th><th style = \"text-align: left;\">Escherichia-coli_2020</th><th style = \"text-align: left;\">Iron_2019</th><th style = \"text-align: left;\">Iron_2020</th><th style = \"text-align: left;\">Manganese_2019</th><th style = \"text-align: left;\">Manganese_2020</th><th style = \"text-align: left;\">Odour-dilution-level_2019</th><th style = \"text-align: left;\">Odour-dilution-level_2020</th><th style = \"text-align: left;\">Taste-dilution-degree_2019</th><th style = \"text-align: left;\">Taste-dilution-degree_2020</th><th style = \"text-align: left;\">Turbidity-NTU_2019</th><th style = \"text-align: left;\">Turbidity-NTU_2020</th><th style = \"text-align: left;\">pH _2019</th><th style = \"text-align: left;\">pH _2020</th><th style = \"text-align: left;\">compliance_2019</th><th style = \"text-align: left;\">compliance_2020</th><th style = \"text-align: left;\">compliance_2021</th></tr><tr class = \"subheader headerLastRow\"><th class = \"rowNumber\" style = \"font-weight: bold; text-align: right;\"></th><th title = \"Int64\" style = \"text-align: left;\">Int64</th><th title = \"Int64\" style = \"text-align: left;\">Int64</th><th title = \"Float64\" style = \"text-align: left;\">Float64</th><th title = \"Float64\" style = \"text-align: left;\">Float64</th><th title = \"Float64\" style = \"text-align: left;\">Float64</th><th title = \"Float64\" style = \"text-align: left;\">Float64</th><th title = \"Float64\" style = \"text-align: left;\">Float64</th><th title = \"Float64\" style = \"text-align: left;\">Float64</th><th title = \"Float64\" style = \"text-align: left;\">Float64</th><th title = \"Float64\" style = \"text-align: left;\">Float64</th><th title = \"Float64\" style = \"text-align: left;\">Float64</th><th title = \"Float64\" style = \"text-align: left;\">Float64</th><th title = \"Float64\" style = \"text-align: left;\">Float64</th><th title = \"Float64\" style = \"text-align: left;\">Float64</th><th title = \"Float64\" style = \"text-align: left;\">Float64</th><th title = \"Float64\" style = \"text-align: left;\">Float64</th><th title = \"Float64\" style = \"text-align: left;\">Float64</th><th title = \"Float64\" style = \"text-align: left;\">Float64</th><th title = \"Float64\" style = \"text-align: left;\">Float64</th><th title = \"Float64\" style = \"text-align: left;\">Float64</th><th title = \"Float64\" style = \"text-align: left;\">Float64</th><th title = \"Float64\" style = \"text-align: left;\">Float64</th><th title = \"Float64\" style = \"text-align: left;\">Float64</th><th title = \"Float64\" style = \"text-align: left;\">Float64</th><th title = \"Float64\" style = \"text-align: left;\">Float64</th><th title = \"Float64\" style = \"text-align: left;\">Float64</th><th title = \"Int64\" style = \"text-align: left;\">Int64</th><th title = \"Int64\" style = \"text-align: left;\">Int64</th><th title = \"Int64\" style = \"text-align: left;\">Int64</th></tr></thead><tbody><tr><td class = \"rowNumber\" style = \"font-weight: bold; text-align: right;\">1</td><td style = \"text-align: right;\">2</td><td style = \"text-align: right;\">205</td><td style = \"text-align: right;\">0.05</td><td style = \"text-align: right;\">0.24</td><td style = \"text-align: right;\">0.0</td><td style = \"text-align: right;\">0.0</td><td style = \"text-align: right;\">0.0</td><td style = \"text-align: right;\">0.0</td><td style = \"text-align: right;\">0.0</td><td style = \"text-align: right;\">0.0</td><td style = \"text-align: right;\">448.0</td><td style = \"text-align: right;\">359.0</td><td style = \"text-align: right;\">0.0</td><td style = \"text-align: right;\">0.0</td><td style = \"text-align: right;\">20.0</td><td style = \"text-align: right;\">21.0</td><td style = \"text-align: right;\">10.0</td><td style = \"text-align: right;\">10.0</td><td style = \"text-align: right;\">1.0</td><td style = \"text-align: right;\">1.0</td><td style = \"text-align: right;\">1.0</td><td style = \"text-align: right;\">1.0</td><td style = \"text-align: right;\">1.0</td><td style = \"text-align: right;\">1.0</td><td style = \"text-align: right;\">7.8</td><td style = \"text-align: right;\">7.7</td><td style = \"text-align: right;\">0</td><td style = \"text-align: right;\">0</td><td style = \"text-align: right;\">0</td></tr><tr><td class = \"rowNumber\" style = \"font-weight: bold; text-align: right;\">2</td><td style = \"text-align: right;\">3</td><td style = \"text-align: right;\">1228</td><td style = \"text-align: right;\">0.09</td><td style = \"text-align: right;\">0.05</td><td style = \"text-align: right;\">0.0</td><td style = \"text-align: right;\">0.0</td><td style = \"text-align: right;\">15.0</td><td style = \"text-align: right;\">2.0</td><td style = \"text-align: right;\">4.0</td><td style = \"text-align: right;\">4.0</td><td style = \"text-align: right;\">978.0</td><td style = \"text-align: right;\">920.0</td><td style = \"text-align: right;\">0.0</td><td style = \"text-align: right;\">0.0</td><td style = \"text-align: right;\">21.0</td><td style = \"text-align: right;\">10.0</td><td style = \"text-align: right;\">8.75</td><td style = \"text-align: right;\">8.75</td><td style = \"text-align: right;\">1.0</td><td style = \"text-align: right;\">1.25</td><td style = \"text-align: right;\">1.0</td><td style = \"text-align: right;\">1.25</td><td style = \"text-align: right;\">0.5</td><td style = \"text-align: right;\">0.5</td><td style = \"text-align: right;\">7.44</td><td style = \"text-align: right;\">7.58</td><td style = \"text-align: right;\">0</td><td style = \"text-align: right;\">0</td><td style = \"text-align: right;\">0</td></tr><tr><td class = \"rowNumber\" style = \"font-weight: bold; text-align: right;\">3</td><td style = \"text-align: right;\">4</td><td style = \"text-align: right;\">470</td><td style = \"text-align: right;\">0.06</td><td style = \"text-align: right;\">0.05</td><td style = \"text-align: right;\">0.0</td><td style = \"text-align: right;\">2.0</td><td style = \"text-align: right;\">1.0</td><td style = \"text-align: right;\">31.0</td><td style = \"text-align: right;\">3.5</td><td style = \"text-align: right;\">3.5</td><td style = \"text-align: right;\">446.0</td><td style = \"text-align: right;\">579.0</td><td style = \"text-align: right;\">0.0</td><td style = \"text-align: right;\">0.0</td><td style = \"text-align: right;\">84.0</td><td style = \"text-align: right;\">3500.0</td><td style = \"text-align: right;\">7.5</td><td style = \"text-align: right;\">7.5</td><td style = \"text-align: right;\">1.0</td><td style = \"text-align: right;\">1.5</td><td style = \"text-align: right;\">1.0</td><td style = \"text-align: right;\">1.5</td><td style = \"text-align: right;\">0.2</td><td style = \"text-align: right;\">44.0</td><td style = \"text-align: right;\">7.7</td><td style = \"text-align: right;\">8.0</td><td style = \"text-align: right;\">0</td><td style = \"text-align: right;\">1</td><td style = \"text-align: right;\">0</td></tr></tbody></table></div>"
      ],
      "text/latex": [
       "\\begin{tabular}{r|ccccccc}\n",
       "\t& Column1 & station\\_id & Ammonium\\_2019 & Ammonium\\_2020 & Coli-like-bacteria\\_2019 & Coli-like-bacteria\\_2020 & \\\\\n",
       "\t\\hline\n",
       "\t& Int64 & Int64 & Float64 & Float64 & Float64 & Float64 & \\\\\n",
       "\t\\hline\n",
       "\t1 & 2 & 205 & 0.05 & 0.24 & 0.0 & 0.0 & $\\dots$ \\\\\n",
       "\t2 & 3 & 1228 & 0.09 & 0.05 & 0.0 & 0.0 & $\\dots$ \\\\\n",
       "\t3 & 4 & 470 & 0.06 & 0.05 & 0.0 & 2.0 & $\\dots$ \\\\\n",
       "\\end{tabular}\n"
      ],
      "text/plain": [
       "\u001b[1m3×29 DataFrame\u001b[0m\n",
       "\u001b[1m Row \u001b[0m│\u001b[1m Column1 \u001b[0m\u001b[1m station_id \u001b[0m\u001b[1m Ammonium_2019 \u001b[0m\u001b[1m Ammonium_2020 \u001b[0m\u001b[1m Coli-like-bacteria_2\u001b[0m ⋯\n",
       "     │\u001b[90m Int64   \u001b[0m\u001b[90m Int64      \u001b[0m\u001b[90m Float64       \u001b[0m\u001b[90m Float64       \u001b[0m\u001b[90m Float64             \u001b[0m ⋯\n",
       "─────┼──────────────────────────────────────────────────────────────────────────\n",
       "   1 │       2         205           0.05           0.24                       ⋯\n",
       "   2 │       3        1228           0.09           0.05\n",
       "   3 │       4         470           0.06           0.05\n",
       "\u001b[36m                                                              25 columns omitted\u001b[0m"
      ]
     },
     "metadata": {},
     "output_type": "display_data"
    },
    {
     "data": {
      "text/html": [
       "<div><div style = \"float: left;\"><span>3×28 DataFrame</span></div><div style = \"clear: both;\"></div></div><div class = \"data-frame\" style = \"overflow-x: scroll;\"><table class = \"data-frame\" style = \"margin-bottom: 6px;\"><thead><tr class = \"header\"><th class = \"rowNumber\" style = \"font-weight: bold; text-align: right;\">Row</th><th style = \"text-align: left;\">Column1</th><th style = \"text-align: left;\">station_id</th><th style = \"text-align: left;\">Ammonium_2019</th><th style = \"text-align: left;\">Ammonium_2020</th><th style = \"text-align: left;\">Coli-like-bacteria_2019</th><th style = \"text-align: left;\">Coli-like-bacteria_2020</th><th style = \"text-align: left;\">Colony-count-at-22-C_2019</th><th style = \"text-align: left;\">Colony-count-at-22-C_2020</th><th style = \"text-align: left;\">Color-Pt/Co-scale_2019</th><th style = \"text-align: left;\">Color-Pt/Co-scale_2020</th><th style = \"text-align: left;\">Electrical-conductivity_2019</th><th style = \"text-align: left;\">Electrical-conductivity_2020</th><th style = \"text-align: left;\">Escherichia-coli_2019</th><th style = \"text-align: left;\">Escherichia-coli_2020</th><th style = \"text-align: left;\">Iron_2019</th><th style = \"text-align: left;\">Iron_2020</th><th style = \"text-align: left;\">Manganese_2019</th><th style = \"text-align: left;\">Manganese_2020</th><th style = \"text-align: left;\">Odour-dilution-level_2019</th><th style = \"text-align: left;\">Odour-dilution-level_2020</th><th style = \"text-align: left;\">Taste-dilution-degree_2019</th><th style = \"text-align: left;\">Taste-dilution-degree_2020</th><th style = \"text-align: left;\">Turbidity-NTU_2019</th><th style = \"text-align: left;\">Turbidity-NTU_2020</th><th style = \"text-align: left;\">pH _2019</th><th style = \"text-align: left;\">pH _2020</th><th style = \"text-align: left;\">compliance_2019</th><th style = \"text-align: left;\">compliance_2020</th></tr><tr class = \"subheader headerLastRow\"><th class = \"rowNumber\" style = \"font-weight: bold; text-align: right;\"></th><th title = \"Int64\" style = \"text-align: left;\">Int64</th><th title = \"Int64\" style = \"text-align: left;\">Int64</th><th title = \"Float64\" style = \"text-align: left;\">Float64</th><th title = \"Float64\" style = \"text-align: left;\">Float64</th><th title = \"Float64\" style = \"text-align: left;\">Float64</th><th title = \"Float64\" style = \"text-align: left;\">Float64</th><th title = \"Float64\" style = \"text-align: left;\">Float64</th><th title = \"Float64\" style = \"text-align: left;\">Float64</th><th title = \"Float64\" style = \"text-align: left;\">Float64</th><th title = \"Float64\" style = \"text-align: left;\">Float64</th><th title = \"Float64\" style = \"text-align: left;\">Float64</th><th title = \"Float64\" style = \"text-align: left;\">Float64</th><th title = \"Float64\" style = \"text-align: left;\">Float64</th><th title = \"Float64\" style = \"text-align: left;\">Float64</th><th title = \"Float64\" style = \"text-align: left;\">Float64</th><th title = \"Float64\" style = \"text-align: left;\">Float64</th><th title = \"Float64\" style = \"text-align: left;\">Float64</th><th title = \"Float64\" style = \"text-align: left;\">Float64</th><th title = \"Float64\" style = \"text-align: left;\">Float64</th><th title = \"Float64\" style = \"text-align: left;\">Float64</th><th title = \"Float64\" style = \"text-align: left;\">Float64</th><th title = \"Float64\" style = \"text-align: left;\">Float64</th><th title = \"Float64\" style = \"text-align: left;\">Float64</th><th title = \"Float64\" style = \"text-align: left;\">Float64</th><th title = \"Float64\" style = \"text-align: left;\">Float64</th><th title = \"Float64\" style = \"text-align: left;\">Float64</th><th title = \"Int64\" style = \"text-align: left;\">Int64</th><th title = \"Int64\" style = \"text-align: left;\">Int64</th></tr></thead><tbody><tr><td class = \"rowNumber\" style = \"font-weight: bold; text-align: right;\">1</td><td style = \"text-align: right;\">0</td><td style = \"text-align: right;\">163</td><td style = \"text-align: right;\">0.08</td><td style = \"text-align: right;\">0.08</td><td style = \"text-align: right;\">0.0</td><td style = \"text-align: right;\">0.0</td><td style = \"text-align: right;\">12.0</td><td style = \"text-align: right;\">12.0</td><td style = \"text-align: right;\">11.7</td><td style = \"text-align: right;\">12.1</td><td style = \"text-align: right;\">716.0</td><td style = \"text-align: right;\">671.0</td><td style = \"text-align: right;\">0.0</td><td style = \"text-align: right;\">0.0</td><td style = \"text-align: right;\">109.4</td><td style = \"text-align: right;\">98.0</td><td style = \"text-align: right;\">30.0</td><td style = \"text-align: right;\">30.0</td><td style = \"text-align: right;\">1.0</td><td style = \"text-align: right;\">1.0</td><td style = \"text-align: right;\">1.0</td><td style = \"text-align: right;\">1.0</td><td style = \"text-align: right;\">1.18</td><td style = \"text-align: right;\">1.9</td><td style = \"text-align: right;\">8.17</td><td style = \"text-align: right;\">8.12</td><td style = \"text-align: right;\">0</td><td style = \"text-align: right;\">0</td></tr><tr><td class = \"rowNumber\" style = \"font-weight: bold; text-align: right;\">2</td><td style = \"text-align: right;\">1</td><td style = \"text-align: right;\">167</td><td style = \"text-align: right;\">0.08</td><td style = \"text-align: right;\">0.08</td><td style = \"text-align: right;\">0.0</td><td style = \"text-align: right;\">0.0</td><td style = \"text-align: right;\">35.3333</td><td style = \"text-align: right;\">73.5</td><td style = \"text-align: right;\">7.7</td><td style = \"text-align: right;\">9.1</td><td style = \"text-align: right;\">996.0</td><td style = \"text-align: right;\">1010.0</td><td style = \"text-align: right;\">0.0</td><td style = \"text-align: right;\">0.0</td><td style = \"text-align: right;\">540.0</td><td style = \"text-align: right;\">78.5</td><td style = \"text-align: right;\">18.0</td><td style = \"text-align: right;\">17.5</td><td style = \"text-align: right;\">1.0</td><td style = \"text-align: right;\">3.0</td><td style = \"text-align: right;\">1.0</td><td style = \"text-align: right;\">3.0</td><td style = \"text-align: right;\">3.9</td><td style = \"text-align: right;\">1.54</td><td style = \"text-align: right;\">7.83</td><td style = \"text-align: right;\">7.81</td><td style = \"text-align: right;\">1</td><td style = \"text-align: right;\">0</td></tr><tr><td class = \"rowNumber\" style = \"font-weight: bold; text-align: right;\">3</td><td style = \"text-align: right;\">2</td><td style = \"text-align: right;\">171</td><td style = \"text-align: right;\">0.065</td><td style = \"text-align: right;\">0.085</td><td style = \"text-align: right;\">0.0</td><td style = \"text-align: right;\">0.0</td><td style = \"text-align: right;\">58.6667</td><td style = \"text-align: right;\">135.0</td><td style = \"text-align: right;\">4.0</td><td style = \"text-align: right;\">2.0</td><td style = \"text-align: right;\">734.0</td><td style = \"text-align: right;\">635.0</td><td style = \"text-align: right;\">0.0</td><td style = \"text-align: right;\">0.0</td><td style = \"text-align: right;\">96.0</td><td style = \"text-align: right;\">140.0</td><td style = \"text-align: right;\">6.0</td><td style = \"text-align: right;\">5.0</td><td style = \"text-align: right;\">2.0</td><td style = \"text-align: right;\">1.0</td><td style = \"text-align: right;\">2.0</td><td style = \"text-align: right;\">1.0</td><td style = \"text-align: right;\">1.4</td><td style = \"text-align: right;\">1.5</td><td style = \"text-align: right;\">7.5</td><td style = \"text-align: right;\">7.6</td><td style = \"text-align: right;\">0</td><td style = \"text-align: right;\">1</td></tr></tbody></table></div>"
      ],
      "text/latex": [
       "\\begin{tabular}{r|ccccccc}\n",
       "\t& Column1 & station\\_id & Ammonium\\_2019 & Ammonium\\_2020 & Coli-like-bacteria\\_2019 & Coli-like-bacteria\\_2020 & \\\\\n",
       "\t\\hline\n",
       "\t& Int64 & Int64 & Float64 & Float64 & Float64 & Float64 & \\\\\n",
       "\t\\hline\n",
       "\t1 & 0 & 163 & 0.08 & 0.08 & 0.0 & 0.0 & $\\dots$ \\\\\n",
       "\t2 & 1 & 167 & 0.08 & 0.08 & 0.0 & 0.0 & $\\dots$ \\\\\n",
       "\t3 & 2 & 171 & 0.065 & 0.085 & 0.0 & 0.0 & $\\dots$ \\\\\n",
       "\\end{tabular}\n"
      ],
      "text/plain": [
       "\u001b[1m3×28 DataFrame\u001b[0m\n",
       "\u001b[1m Row \u001b[0m│\u001b[1m Column1 \u001b[0m\u001b[1m station_id \u001b[0m\u001b[1m Ammonium_2019 \u001b[0m\u001b[1m Ammonium_2020 \u001b[0m\u001b[1m Coli-like-bacteria_2\u001b[0m ⋯\n",
       "     │\u001b[90m Int64   \u001b[0m\u001b[90m Int64      \u001b[0m\u001b[90m Float64       \u001b[0m\u001b[90m Float64       \u001b[0m\u001b[90m Float64             \u001b[0m ⋯\n",
       "─────┼──────────────────────────────────────────────────────────────────────────\n",
       "   1 │       0         163          0.08           0.08                        ⋯\n",
       "   2 │       1         167          0.08           0.08\n",
       "   3 │       2         171          0.065          0.085\n",
       "\u001b[36m                                                              24 columns omitted\u001b[0m"
      ]
     },
     "metadata": {},
     "output_type": "display_data"
    }
   ],
   "source": [
    "df_train = CSV.read(joinpath(@__DIR__, \"data/clean/train_clean.csv\"), delim=',', DataFrame)\n",
    "display(first(df_train, 3))\n",
    "df_test = CSV.read(joinpath(@__DIR__, \"data/clean/test_clean.csv\"), delim=',', DataFrame)\n",
    "display(first(df_test, 3))"
   ]
  },
  {
   "cell_type": "markdown",
   "metadata": {},
   "source": [
    "#### Declare the function required for dataset's columnnames adjustments\n",
    "\n",
    "* all columnnames to lowercase\n",
    "* replace suffix like '_20XX'"
   ]
  },
  {
   "cell_type": "code",
   "execution_count": 4,
   "metadata": {},
   "outputs": [
    {
     "data": {
      "text/plain": [
       "adjustcolnames (generic function with 1 method)"
      ]
     },
     "metadata": {},
     "output_type": "display_data"
    }
   ],
   "source": [
    "# Ref, inspired by: dataframes.juliadata.org/stable/man/querying_frameworks/\n",
    "function adjustcolnames(df, suffix)\n",
    "    array = []\n",
    "    for col in names(df)\n",
    "        push!(array, replace(lowercase(col), suffix => \"\"))\n",
    "    end\n",
    "        rename!(df, Symbol.(array))\n",
    "end"
   ]
  },
  {
   "cell_type": "markdown",
   "metadata": {},
   "source": [
    "#### Do relevant adjustments for 2019/2020 datasets\n",
    "\n",
    "* apply 'adjustcolnames' for each column\n",
    "* add new column 'year\n",
    "* union the 2019/2020 dataframes into one\n",
    "* exclude 'station_id' and 'year'"
   ]
  },
  {
   "cell_type": "code",
   "execution_count": 6,
   "metadata": {},
   "outputs": [
    {
     "data": {
      "text/html": [
       "<div><div style = \"float: left;\"><span>3×13 DataFrame</span></div><div style = \"clear: both;\"></div></div><div class = \"data-frame\" style = \"overflow-x: scroll;\"><table class = \"data-frame\" style = \"margin-bottom: 6px;\"><thead><tr class = \"header\"><th class = \"rowNumber\" style = \"font-weight: bold; text-align: right;\">Row</th><th style = \"text-align: left;\">ammonium</th><th style = \"text-align: left;\">coli-like-bacteria</th><th style = \"text-align: left;\">colony-count-at-22-c</th><th style = \"text-align: left;\">color-pt/co-scale</th><th style = \"text-align: left;\">electrical-conductivity</th><th style = \"text-align: left;\">escherichia-coli</th><th style = \"text-align: left;\">iron</th><th style = \"text-align: left;\">manganese</th><th style = \"text-align: left;\">odour-dilution-level</th><th style = \"text-align: left;\">taste-dilution-degree</th><th style = \"text-align: left;\">turbidity-ntu</th><th style = \"text-align: left;\">ph </th><th style = \"text-align: left;\">compliance</th></tr><tr class = \"subheader headerLastRow\"><th class = \"rowNumber\" style = \"font-weight: bold; text-align: right;\"></th><th title = \"Float64\" style = \"text-align: left;\">Float64</th><th title = \"Float64\" style = \"text-align: left;\">Float64</th><th title = \"Float64\" style = \"text-align: left;\">Float64</th><th title = \"Float64\" style = \"text-align: left;\">Float64</th><th title = \"Float64\" style = \"text-align: left;\">Float64</th><th title = \"Float64\" style = \"text-align: left;\">Float64</th><th title = \"Float64\" style = \"text-align: left;\">Float64</th><th title = \"Float64\" style = \"text-align: left;\">Float64</th><th title = \"Float64\" style = \"text-align: left;\">Float64</th><th title = \"Float64\" style = \"text-align: left;\">Float64</th><th title = \"Float64\" style = \"text-align: left;\">Float64</th><th title = \"Float64\" style = \"text-align: left;\">Float64</th><th title = \"Int64\" style = \"text-align: left;\">Int64</th></tr></thead><tbody><tr><td class = \"rowNumber\" style = \"font-weight: bold; text-align: right;\">1</td><td style = \"text-align: right;\">0.05</td><td style = \"text-align: right;\">0.0</td><td style = \"text-align: right;\">0.0</td><td style = \"text-align: right;\">0.0</td><td style = \"text-align: right;\">448.0</td><td style = \"text-align: right;\">0.0</td><td style = \"text-align: right;\">20.0</td><td style = \"text-align: right;\">10.0</td><td style = \"text-align: right;\">1.0</td><td style = \"text-align: right;\">1.0</td><td style = \"text-align: right;\">1.0</td><td style = \"text-align: right;\">7.8</td><td style = \"text-align: right;\">0</td></tr><tr><td class = \"rowNumber\" style = \"font-weight: bold; text-align: right;\">2</td><td style = \"text-align: right;\">0.09</td><td style = \"text-align: right;\">0.0</td><td style = \"text-align: right;\">15.0</td><td style = \"text-align: right;\">4.0</td><td style = \"text-align: right;\">978.0</td><td style = \"text-align: right;\">0.0</td><td style = \"text-align: right;\">21.0</td><td style = \"text-align: right;\">8.75</td><td style = \"text-align: right;\">1.0</td><td style = \"text-align: right;\">1.0</td><td style = \"text-align: right;\">0.5</td><td style = \"text-align: right;\">7.44</td><td style = \"text-align: right;\">0</td></tr><tr><td class = \"rowNumber\" style = \"font-weight: bold; text-align: right;\">3</td><td style = \"text-align: right;\">0.06</td><td style = \"text-align: right;\">0.0</td><td style = \"text-align: right;\">1.0</td><td style = \"text-align: right;\">3.5</td><td style = \"text-align: right;\">446.0</td><td style = \"text-align: right;\">0.0</td><td style = \"text-align: right;\">84.0</td><td style = \"text-align: right;\">7.5</td><td style = \"text-align: right;\">1.0</td><td style = \"text-align: right;\">1.0</td><td style = \"text-align: right;\">0.2</td><td style = \"text-align: right;\">7.7</td><td style = \"text-align: right;\">0</td></tr></tbody></table></div>"
      ],
      "text/latex": [
       "\\begin{tabular}{r|cccccc}\n",
       "\t& ammonium & coli-like-bacteria & colony-count-at-22-c & color-pt/co-scale & electrical-conductivity & \\\\\n",
       "\t\\hline\n",
       "\t& Float64 & Float64 & Float64 & Float64 & Float64 & \\\\\n",
       "\t\\hline\n",
       "\t1 & 0.05 & 0.0 & 0.0 & 0.0 & 448.0 & $\\dots$ \\\\\n",
       "\t2 & 0.09 & 0.0 & 15.0 & 4.0 & 978.0 & $\\dots$ \\\\\n",
       "\t3 & 0.06 & 0.0 & 1.0 & 3.5 & 446.0 & $\\dots$ \\\\\n",
       "\\end{tabular}\n"
      ],
      "text/plain": [
       "\u001b[1m3×13 DataFrame\u001b[0m\n",
       "\u001b[1m Row \u001b[0m│\u001b[1m ammonium \u001b[0m\u001b[1m coli-like-bacteria \u001b[0m\u001b[1m colony-count-at-22-c \u001b[0m\u001b[1m color-pt/co-scale \u001b[0m\u001b[1m \u001b[0m ⋯\n",
       "     │\u001b[90m Float64  \u001b[0m\u001b[90m Float64            \u001b[0m\u001b[90m Float64              \u001b[0m\u001b[90m Float64           \u001b[0m\u001b[90m \u001b[0m ⋯\n",
       "─────┼──────────────────────────────────────────────────────────────────────────\n",
       "   1 │     0.05                 0.0                   0.0                0.0   ⋯\n",
       "   2 │     0.09                 0.0                  15.0                4.0\n",
       "   3 │     0.06                 0.0                   1.0                3.5\n",
       "\u001b[36m                                                               9 columns omitted\u001b[0m"
      ]
     },
     "metadata": {},
     "output_type": "display_data"
    }
   ],
   "source": [
    "# Adjust train\n",
    "\n",
    "# 2019 - apply 'adjustcolnames' for each column\n",
    "df_train_2019 = select(df_train, :station_id, Cols(r\"_2019\"))\n",
    "# add new column 'year'\n",
    "df_train_2019[!, \"year\"] .= 2019\n",
    "adjustcolnames(df_train_2019, \"_2019\")\n",
    "\n",
    "# 2020 - apply 'adjustcolnames' for each column\n",
    "df_train_2020 = select(df_train, :station_id, Cols(r\"_2020\"))\n",
    "# add new column 'year'\n",
    "df_train_2020[!, \"year\"] .= 2020\n",
    "adjustcolnames(df_train_2020, \"_2020\")\n",
    "\n",
    "# union the 2019/2020 dataframes into one\n",
    "df_train_all = vcat(df_train_2019, df_train_2020)\n",
    "\n",
    "# exclude 'station_id' and 'year'\n",
    "select!(df_train_all, Not([:year, :station_id]))\n",
    "first(df_train_all, 3)"
   ]
  },
  {
   "cell_type": "code",
   "execution_count": 7,
   "metadata": {},
   "outputs": [
    {
     "data": {
      "text/html": [
       "<div><div style = \"float: left;\"><span>3×13 DataFrame</span></div><div style = \"clear: both;\"></div></div><div class = \"data-frame\" style = \"overflow-x: scroll;\"><table class = \"data-frame\" style = \"margin-bottom: 6px;\"><thead><tr class = \"header\"><th class = \"rowNumber\" style = \"font-weight: bold; text-align: right;\">Row</th><th style = \"text-align: left;\">ammonium</th><th style = \"text-align: left;\">coli-like-bacteria</th><th style = \"text-align: left;\">colony-count-at-22-c</th><th style = \"text-align: left;\">color-pt/co-scale</th><th style = \"text-align: left;\">electrical-conductivity</th><th style = \"text-align: left;\">escherichia-coli</th><th style = \"text-align: left;\">iron</th><th style = \"text-align: left;\">manganese</th><th style = \"text-align: left;\">odour-dilution-level</th><th style = \"text-align: left;\">taste-dilution-degree</th><th style = \"text-align: left;\">turbidity-ntu</th><th style = \"text-align: left;\">ph </th><th style = \"text-align: left;\">compliance</th></tr><tr class = \"subheader headerLastRow\"><th class = \"rowNumber\" style = \"font-weight: bold; text-align: right;\"></th><th title = \"Float64\" style = \"text-align: left;\">Float64</th><th title = \"Float64\" style = \"text-align: left;\">Float64</th><th title = \"Float64\" style = \"text-align: left;\">Float64</th><th title = \"Float64\" style = \"text-align: left;\">Float64</th><th title = \"Float64\" style = \"text-align: left;\">Float64</th><th title = \"Float64\" style = \"text-align: left;\">Float64</th><th title = \"Float64\" style = \"text-align: left;\">Float64</th><th title = \"Float64\" style = \"text-align: left;\">Float64</th><th title = \"Float64\" style = \"text-align: left;\">Float64</th><th title = \"Float64\" style = \"text-align: left;\">Float64</th><th title = \"Float64\" style = \"text-align: left;\">Float64</th><th title = \"Float64\" style = \"text-align: left;\">Float64</th><th title = \"Int64\" style = \"text-align: left;\">Int64</th></tr></thead><tbody><tr><td class = \"rowNumber\" style = \"font-weight: bold; text-align: right;\">1</td><td style = \"text-align: right;\">0.08</td><td style = \"text-align: right;\">0.0</td><td style = \"text-align: right;\">12.0</td><td style = \"text-align: right;\">11.7</td><td style = \"text-align: right;\">716.0</td><td style = \"text-align: right;\">0.0</td><td style = \"text-align: right;\">109.4</td><td style = \"text-align: right;\">30.0</td><td style = \"text-align: right;\">1.0</td><td style = \"text-align: right;\">1.0</td><td style = \"text-align: right;\">1.18</td><td style = \"text-align: right;\">8.17</td><td style = \"text-align: right;\">0</td></tr><tr><td class = \"rowNumber\" style = \"font-weight: bold; text-align: right;\">2</td><td style = \"text-align: right;\">0.08</td><td style = \"text-align: right;\">0.0</td><td style = \"text-align: right;\">35.3333</td><td style = \"text-align: right;\">7.7</td><td style = \"text-align: right;\">996.0</td><td style = \"text-align: right;\">0.0</td><td style = \"text-align: right;\">540.0</td><td style = \"text-align: right;\">18.0</td><td style = \"text-align: right;\">1.0</td><td style = \"text-align: right;\">1.0</td><td style = \"text-align: right;\">3.9</td><td style = \"text-align: right;\">7.83</td><td style = \"text-align: right;\">1</td></tr><tr><td class = \"rowNumber\" style = \"font-weight: bold; text-align: right;\">3</td><td style = \"text-align: right;\">0.065</td><td style = \"text-align: right;\">0.0</td><td style = \"text-align: right;\">58.6667</td><td style = \"text-align: right;\">4.0</td><td style = \"text-align: right;\">734.0</td><td style = \"text-align: right;\">0.0</td><td style = \"text-align: right;\">96.0</td><td style = \"text-align: right;\">6.0</td><td style = \"text-align: right;\">2.0</td><td style = \"text-align: right;\">2.0</td><td style = \"text-align: right;\">1.4</td><td style = \"text-align: right;\">7.5</td><td style = \"text-align: right;\">0</td></tr></tbody></table></div>"
      ],
      "text/latex": [
       "\\begin{tabular}{r|cccccc}\n",
       "\t& ammonium & coli-like-bacteria & colony-count-at-22-c & color-pt/co-scale & electrical-conductivity & \\\\\n",
       "\t\\hline\n",
       "\t& Float64 & Float64 & Float64 & Float64 & Float64 & \\\\\n",
       "\t\\hline\n",
       "\t1 & 0.08 & 0.0 & 12.0 & 11.7 & 716.0 & $\\dots$ \\\\\n",
       "\t2 & 0.08 & 0.0 & 35.3333 & 7.7 & 996.0 & $\\dots$ \\\\\n",
       "\t3 & 0.065 & 0.0 & 58.6667 & 4.0 & 734.0 & $\\dots$ \\\\\n",
       "\\end{tabular}\n"
      ],
      "text/plain": [
       "\u001b[1m3×13 DataFrame\u001b[0m\n",
       "\u001b[1m Row \u001b[0m│\u001b[1m ammonium \u001b[0m\u001b[1m coli-like-bacteria \u001b[0m\u001b[1m colony-count-at-22-c \u001b[0m\u001b[1m color-pt/co-scale \u001b[0m\u001b[1m \u001b[0m ⋯\n",
       "     │\u001b[90m Float64  \u001b[0m\u001b[90m Float64            \u001b[0m\u001b[90m Float64              \u001b[0m\u001b[90m Float64           \u001b[0m\u001b[90m \u001b[0m ⋯\n",
       "─────┼──────────────────────────────────────────────────────────────────────────\n",
       "   1 │    0.08                  0.0               12.0                  11.7   ⋯\n",
       "   2 │    0.08                  0.0               35.3333                7.7\n",
       "   3 │    0.065                 0.0               58.6667                4.0\n",
       "\u001b[36m                                                               9 columns omitted\u001b[0m"
      ]
     },
     "metadata": {},
     "output_type": "display_data"
    }
   ],
   "source": [
    "# Adjust test\n",
    "\n",
    "# 2019 - apply 'adjustcolnames' for each column\n",
    "df_test_2019 = select(df_test, :station_id, Cols(r\"_2019\"))\n",
    "# add new column 'year'\n",
    "df_test_2019[!, \"year\"] .= 2019\n",
    "adjustcolnames(df_test_2019, \"_2019\")\n",
    "\n",
    "# 2020 - apply 'adjustcolnames' for each column\n",
    "df_test_2020 = select(df_test, :station_id, Cols(r\"_2020\"))\n",
    "# add new column 'year'\n",
    "df_test_2020[!, \"year\"] .= 2020\n",
    "adjustcolnames(df_test_2020, \"_2020\")\n",
    "\n",
    "# union the 2019/2020 dataframes into one\n",
    "df_test_all = vcat(df_test_2019, df_test_2020)\n",
    "\n",
    "# exclude 'station_id' and 'year'\n",
    "select!(df_test_all, Not([:year, :station_id]))\n",
    "first(df_test_all, 3)"
   ]
  },
  {
   "cell_type": "markdown",
   "metadata": {},
   "source": [
    "### Save adjusted train/test datasets"
   ]
  },
  {
   "cell_type": "code",
   "execution_count": null,
   "metadata": {},
   "outputs": [],
   "source": [
    "CSV.write(joinpath(@__DIR__, \"data/adjusted/train_adjusted.csv\"), delim=';', df_train_all)\n",
    "CSV.write(joinpath(@__DIR__, \"data/adjusted/test_adjusted.csv\"), delim=';', df_test_all)"
   ]
  }
 ],
 "metadata": {
  "kernelspec": {
   "display_name": "Julia 1.8.2",
   "language": "julia",
   "name": "julia-1.8"
  },
  "language_info": {
   "file_extension": ".jl",
   "mimetype": "application/julia",
   "name": "julia",
   "version": "1.8.2"
  },
  "orig_nbformat": 4
 },
 "nbformat": 4,
 "nbformat_minor": 2
}
