{
 "cells": [
  {
   "cell_type": "markdown",
   "metadata": {},
   "source": [
    "## Practical project 1 - 01 - Dataset adjustments\n",
    "\n",
    "Explainable Automated Machine Learning course, LTAT.02.023\n",
    "University of Tartu, Institute of Computer Science\n",
    "\n",
    "Each team will work on a machine learning problem from end-to-end.\n",
    "\n",
    "#### Project's general description:\n",
    "<details>\n",
    "  <summary>Click here for more information!</summary>\n",
    "\n",
    "  Each team will work on a machine learning problem from end-to-end.\n",
    "\n",
    "  **Step 1:** Choose a dataset. Build and train a baseline for comparison. To construct the baseline you do the following:\n",
    "  * Try a set of possible machine learning algorithms (**13 algorithms**) using their **default hyperparameters** and choose the one with the highest performance for comparison.\n",
    "\n",
    "\n",
    "  **Step 2:** Based on the problem at hand, you study:\n",
    "  * the **potential pipeline structure**,\n",
    "  * **algorithms**\n",
    "  * or **feature transformers** at each step,\n",
    "  * **hyper-parameters ranges**.\n",
    "  \n",
    "  Use hyperOpt with the potential search space to beat the baseline.\n",
    "\n",
    "\n",
    "  **Step 3:** Monitor the performance of the constructed pipeline from the previous step across different time budgets (number of iterations) and report the least time budget that you are able to outperform the baseline.\n",
    "\n",
    "\n",
    "  **Step 4:** Determine whether the difference in performance between the constructed pipeline and the baseline is statistically significant.\n",
    "\n",
    "</details>\n",
    "\n",
    "#### Dataset used:\n",
    "<details>\n",
    "  <summary>Click here for more information!</summary>\n",
    "\n",
    "  Dataset is taken from Kaggle competition - Drinking Water Quality Prediction. The goal of the competition is to create a model that predicts the water quality in Estonian water stations based on the government's open data of the previous measurements.\n",
    "\n",
    "  [Reference](https://www.kaggle.com/competitions/copy-of-drinking-water-quality)\n",
    "</details>\n",
    "\n",
    "#### References:\n",
    "<details>\n",
    "  <summary>Click here for more information!</summary>\n",
    "\n",
    "  [MLJ for Data Scientists in Two Hours](https://juliaai.github.io/DataScienceTutorials.jl/end-to-end/telco/)\n",
    "</details>"
   ]
  },
  {
   "cell_type": "markdown",
   "metadata": {},
   "source": [
    "### Activate the current project. Check the packages available"
   ]
  },
  {
   "cell_type": "code",
   "execution_count": 1,
   "metadata": {},
   "outputs": [
    {
     "name": "stderr",
     "output_type": "stream",
     "text": [
      "\u001b[32m\u001b[1m  Activating\u001b[22m\u001b[39m project at `/Volumes/Data Science 214386/DataScience214386/LTAT.02.023 - Explainable Automated Machine Learning/project-1`\n"
     ]
    },
    {
     "name": "stdout",
     "output_type": "stream",
     "text": [
      "\u001b[32m\u001b[1mStatus\u001b[22m\u001b[39m `/Volumes/Data Science 214386/DataScience214386/LTAT.02.023 - Explainable Automated Machine Learning/project-1/Project.toml`\n",
      " \u001b[90m [336ed68f] \u001b[39mCSV v0.10.7\n",
      " \u001b[90m [324d7699] \u001b[39mCategoricalArrays v0.10.7\n",
      " \u001b[90m [af321ab8] \u001b[39mCategoricalDistributions v0.1.9\n",
      " \u001b[90m [861a8166] \u001b[39mCombinatorics v1.0.2\n",
      "\u001b[32m⌃\u001b[39m\u001b[90m [a93c6f00] \u001b[39mDataFrames v1.3.6\n",
      "\u001b[32m⌃\u001b[39m\u001b[90m [add582a8] \u001b[39mMLJ v0.18.6\n",
      " \u001b[90m [c6f25543] \u001b[39mMLJDecisionTreeInterface v0.2.5\n",
      " \u001b[90m [1b6a4a23] \u001b[39mMLJMultivariateStatsInterface v0.5.0\n",
      " \u001b[90m [17a086e9] \u001b[39mMLJParticleSwarmOptimization v0.1.2\n",
      " \u001b[90m [5ae90465] \u001b[39mMLJScikitLearnInterface v0.2.0\n",
      " \u001b[90m [54119dfa] \u001b[39mMLJXGBoostInterface v0.2.1\n",
      " \u001b[90m [eff96d63] \u001b[39mMeasurements v2.8.0\n",
      "\u001b[32m⌃\u001b[39m\u001b[90m [91a5bcdd] \u001b[39mPlots v1.35.7\n",
      " \u001b[90m [860ef19b] \u001b[39mStableRNGs v1.0.0\n",
      " \u001b[90m [fd094767] \u001b[39mSuppressor v0.2.1\n",
      "\u001b[36m\u001b[1mInfo\u001b[22m\u001b[39m Packages marked with \u001b[32m⌃\u001b[39m have new versions available and may be upgradable.\n"
     ]
    }
   ],
   "source": [
    "using Pkg\n",
    "\n",
    "Pkg.activate(\".\")\n",
    "Pkg.status()"
   ]
  },
  {
   "cell_type": "markdown",
   "metadata": {},
   "source": [
    "### Get packages to use"
   ]
  },
  {
   "cell_type": "code",
   "execution_count": 2,
   "metadata": {},
   "outputs": [],
   "source": [
    "using DataFrames\n",
    "using CSV\n",
    "using MLJ"
   ]
  },
  {
   "cell_type": "markdown",
   "metadata": {},
   "source": [
    "### Do initial dataset transformations"
   ]
  },
  {
   "cell_type": "markdown",
   "metadata": {},
   "source": [
    "#### Get train/test data"
   ]
  },
  {
   "cell_type": "code",
   "execution_count": 3,
   "metadata": {},
   "outputs": [
    {
     "data": {
      "text/html": [
       "<div class=\"data-frame\"><p>3 rows × 58 columns (omitted printing of 52 columns)</p><table class=\"data-frame\"><thead><tr><th></th><th>station_id</th><th>Aluminium_2019</th><th>Aluminium_2020</th><th>Ammonium_2019</th><th>Ammonium_2020</th><th>Boron_2019</th></tr><tr><th></th><th title=\"Int64\">Int64</th><th title=\"Union{Missing, Float64}\">Float64?</th><th title=\"Union{Missing, Float64}\">Float64?</th><th title=\"Union{Missing, Float64}\">Float64?</th><th title=\"Union{Missing, Float64}\">Float64?</th><th title=\"Union{Missing, Float64}\">Float64?</th></tr></thead><tbody><tr><th>1</th><td>487</td><td><em>missing</em></td><td><em>missing</em></td><td>0.05</td><td>0.05</td><td><em>missing</em></td></tr><tr><th>2</th><td>1555</td><td><em>missing</em></td><td><em>missing</em></td><td>0.05</td><td>0.05</td><td><em>missing</em></td></tr><tr><th>3</th><td>205</td><td><em>missing</em></td><td>10.0</td><td>0.05</td><td>0.24</td><td><em>missing</em></td></tr></tbody></table></div>"
      ],
      "text/latex": [
       "\\begin{tabular}{r|ccccccc}\n",
       "\t& station\\_id & Aluminium\\_2019 & Aluminium\\_2020 & Ammonium\\_2019 & Ammonium\\_2020 & Boron\\_2019 & \\\\\n",
       "\t\\hline\n",
       "\t& Int64 & Float64? & Float64? & Float64? & Float64? & Float64? & \\\\\n",
       "\t\\hline\n",
       "\t1 & 487 & \\emph{missing} & \\emph{missing} & 0.05 & 0.05 & \\emph{missing} & $\\dots$ \\\\\n",
       "\t2 & 1555 & \\emph{missing} & \\emph{missing} & 0.05 & 0.05 & \\emph{missing} & $\\dots$ \\\\\n",
       "\t3 & 205 & \\emph{missing} & 10.0 & 0.05 & 0.24 & \\emph{missing} & $\\dots$ \\\\\n",
       "\\end{tabular}\n"
      ],
      "text/plain": [
       "\u001b[1m3×58 DataFrame\u001b[0m\n",
       "\u001b[1m Row \u001b[0m│\u001b[1m station_id \u001b[0m\u001b[1m Aluminium_2019 \u001b[0m\u001b[1m Aluminium_2020 \u001b[0m\u001b[1m Ammonium_2019 \u001b[0m\u001b[1m Ammonium_202\u001b[0m ⋯\n",
       "\u001b[1m     \u001b[0m│\u001b[90m Int64      \u001b[0m\u001b[90m Float64?       \u001b[0m\u001b[90m Float64?       \u001b[0m\u001b[90m Float64?      \u001b[0m\u001b[90m Float64?    \u001b[0m ⋯\n",
       "─────┼──────────────────────────────────────────────────────────────────────────\n",
       "   1 │        487 \u001b[90m        missing \u001b[0m\u001b[90m      missing   \u001b[0m          0.05           0.0 ⋯\n",
       "   2 │       1555 \u001b[90m        missing \u001b[0m\u001b[90m      missing   \u001b[0m          0.05           0.0\n",
       "   3 │        205 \u001b[90m        missing \u001b[0m           10.0           0.05           0.2\n",
       "\u001b[36m                                                              54 columns omitted\u001b[0m"
      ]
     },
     "metadata": {},
     "output_type": "display_data"
    },
    {
     "data": {
      "text/html": [
       "<div class=\"data-frame\"><p>3 rows × 57 columns (omitted printing of 51 columns)</p><table class=\"data-frame\"><thead><tr><th></th><th>station_id</th><th>Aluminium_2019</th><th>Aluminium_2020</th><th>Ammonium_2019</th><th>Ammonium_2020</th><th>Boron_2019</th></tr><tr><th></th><th title=\"Int64\">Int64</th><th title=\"Union{Missing, Float64}\">Float64?</th><th title=\"Union{Missing, Float64}\">Float64?</th><th title=\"Union{Missing, Float64}\">Float64?</th><th title=\"Union{Missing, Float64}\">Float64?</th><th title=\"Union{Missing, Float64}\">Float64?</th></tr></thead><tbody><tr><th>1</th><td>163</td><td>5.0</td><td>5.0</td><td>0.08</td><td>0.08</td><td>0.071</td></tr><tr><th>2</th><td>167</td><td><em>missing</em></td><td><em>missing</em></td><td>0.08</td><td>0.08</td><td><em>missing</em></td></tr><tr><th>3</th><td>171</td><td><em>missing</em></td><td><em>missing</em></td><td><em>missing</em></td><td><em>missing</em></td><td><em>missing</em></td></tr></tbody></table></div>"
      ],
      "text/latex": [
       "\\begin{tabular}{r|ccccccc}\n",
       "\t& station\\_id & Aluminium\\_2019 & Aluminium\\_2020 & Ammonium\\_2019 & Ammonium\\_2020 & Boron\\_2019 & \\\\\n",
       "\t\\hline\n",
       "\t& Int64 & Float64? & Float64? & Float64? & Float64? & Float64? & \\\\\n",
       "\t\\hline\n",
       "\t1 & 163 & 5.0 & 5.0 & 0.08 & 0.08 & 0.071 & $\\dots$ \\\\\n",
       "\t2 & 167 & \\emph{missing} & \\emph{missing} & 0.08 & 0.08 & \\emph{missing} & $\\dots$ \\\\\n",
       "\t3 & 171 & \\emph{missing} & \\emph{missing} & \\emph{missing} & \\emph{missing} & \\emph{missing} & $\\dots$ \\\\\n",
       "\\end{tabular}\n"
      ],
      "text/plain": [
       "\u001b[1m3×57 DataFrame\u001b[0m\n",
       "\u001b[1m Row \u001b[0m│\u001b[1m station_id \u001b[0m\u001b[1m Aluminium_2019 \u001b[0m\u001b[1m Aluminium_2020 \u001b[0m\u001b[1m Ammonium_2019 \u001b[0m\u001b[1m Ammonium_202\u001b[0m ⋯\n",
       "\u001b[1m     \u001b[0m│\u001b[90m Int64      \u001b[0m\u001b[90m Float64?       \u001b[0m\u001b[90m Float64?       \u001b[0m\u001b[90m Float64?      \u001b[0m\u001b[90m Float64?    \u001b[0m ⋯\n",
       "─────┼──────────────────────────────────────────────────────────────────────────\n",
       "   1 │        163             5.0             5.0           0.08           0.0 ⋯\n",
       "   2 │        167 \u001b[90m      missing   \u001b[0m\u001b[90m      missing   \u001b[0m          0.08           0.0\n",
       "   3 │        171 \u001b[90m      missing   \u001b[0m\u001b[90m      missing   \u001b[0m\u001b[90m    missing    \u001b[0m\u001b[90m    missing\u001b[0m\n",
       "\u001b[36m                                                              53 columns omitted\u001b[0m"
      ]
     },
     "metadata": {},
     "output_type": "display_data"
    }
   ],
   "source": [
    "df_train = CSV.read(joinpath(@__DIR__, \"data/original/train_original.csv\"), delim=',', DataFrame)\n",
    "display(first(df_train, 3))\n",
    "df_test = CSV.read(joinpath(@__DIR__, \"data/original/test_original.csv\"), delim=',', DataFrame)\n",
    "display(first(df_test, 3))"
   ]
  },
  {
   "cell_type": "markdown",
   "metadata": {},
   "source": [
    "#### Declare the function required for dataset's columnnames adjustments\n",
    "\n",
    "* all columnnames to lowercase\n",
    "* replace suffix like '_20XX'"
   ]
  },
  {
   "cell_type": "code",
   "execution_count": 4,
   "metadata": {},
   "outputs": [
    {
     "data": {
      "text/plain": [
       "adjustcolnames (generic function with 1 method)"
      ]
     },
     "metadata": {},
     "output_type": "display_data"
    }
   ],
   "source": [
    "# Ref, inspired by: dataframes.juliadata.org/stable/man/querying_frameworks/\n",
    "function adjustcolnames(df, suffix)\n",
    "    array = []\n",
    "    for col in names(df)\n",
    "        push!(array, replace(lowercase(col), suffix => \"\"))\n",
    "    end\n",
    "        rename!(df, Symbol.(array))\n",
    "end"
   ]
  },
  {
   "cell_type": "markdown",
   "metadata": {},
   "source": [
    "#### Do relevant adjustments for 2019/2020 datasets\n",
    "\n",
    "* apply 'adjustcolnames' for each column\n",
    "* add new column 'year\n",
    "* union the 2019/2020 dataframes into one\n",
    "* exclude 'station_id' and 'year'"
   ]
  },
  {
   "cell_type": "code",
   "execution_count": 5,
   "metadata": {},
   "outputs": [
    {
     "data": {
      "text/html": [
       "<div class=\"data-frame\"><p>3 rows × 28 columns (omitted printing of 22 columns)</p><table class=\"data-frame\"><thead><tr><th></th><th>aluminium</th><th>ammonium</th><th>boron</th><th>chloride</th><th>coli-like-bacteria-colilert</th><th>coli-like-bacteria</th></tr><tr><th></th><th title=\"Union{Missing, Float64}\">Float64?</th><th title=\"Union{Missing, Float64}\">Float64?</th><th title=\"Union{Missing, Float64}\">Float64?</th><th title=\"Union{Missing, Float64}\">Float64?</th><th title=\"Union{Missing, Float64}\">Float64?</th><th title=\"Union{Missing, Float64}\">Float64?</th></tr></thead><tbody><tr><th>1</th><td><em>missing</em></td><td>0.05</td><td><em>missing</em></td><td><em>missing</em></td><td><em>missing</em></td><td>0.0</td></tr><tr><th>2</th><td><em>missing</em></td><td>0.05</td><td><em>missing</em></td><td><em>missing</em></td><td><em>missing</em></td><td>0.0</td></tr><tr><th>3</th><td><em>missing</em></td><td>0.05</td><td><em>missing</em></td><td><em>missing</em></td><td><em>missing</em></td><td>0.0</td></tr></tbody></table></div>"
      ],
      "text/latex": [
       "\\begin{tabular}{r|ccccccc}\n",
       "\t& aluminium & ammonium & boron & chloride & coli-like-bacteria-colilert & coli-like-bacteria & \\\\\n",
       "\t\\hline\n",
       "\t& Float64? & Float64? & Float64? & Float64? & Float64? & Float64? & \\\\\n",
       "\t\\hline\n",
       "\t1 & \\emph{missing} & 0.05 & \\emph{missing} & \\emph{missing} & \\emph{missing} & 0.0 & $\\dots$ \\\\\n",
       "\t2 & \\emph{missing} & 0.05 & \\emph{missing} & \\emph{missing} & \\emph{missing} & 0.0 & $\\dots$ \\\\\n",
       "\t3 & \\emph{missing} & 0.05 & \\emph{missing} & \\emph{missing} & \\emph{missing} & 0.0 & $\\dots$ \\\\\n",
       "\\end{tabular}\n"
      ],
      "text/plain": [
       "\u001b[1m3×28 DataFrame\u001b[0m\n",
       "\u001b[1m Row \u001b[0m│\u001b[1m aluminium \u001b[0m\u001b[1m ammonium \u001b[0m\u001b[1m boron    \u001b[0m\u001b[1m chloride \u001b[0m\u001b[1m coli-like-bacteria-colilert \u001b[0m\u001b[1m c\u001b[0m ⋯\n",
       "\u001b[1m     \u001b[0m│\u001b[90m Float64?  \u001b[0m\u001b[90m Float64? \u001b[0m\u001b[90m Float64? \u001b[0m\u001b[90m Float64? \u001b[0m\u001b[90m Float64?                    \u001b[0m\u001b[90m F\u001b[0m ⋯\n",
       "─────┼──────────────────────────────────────────────────────────────────────────\n",
       "   1 │\u001b[90m   missing \u001b[0m     0.05 \u001b[90m  missing \u001b[0m\u001b[90m  missing \u001b[0m\u001b[90m                     missing \u001b[0m   ⋯\n",
       "   2 │\u001b[90m   missing \u001b[0m     0.05 \u001b[90m  missing \u001b[0m\u001b[90m  missing \u001b[0m\u001b[90m                     missing \u001b[0m\n",
       "   3 │\u001b[90m   missing \u001b[0m     0.05 \u001b[90m  missing \u001b[0m\u001b[90m  missing \u001b[0m\u001b[90m                     missing \u001b[0m\n",
       "\u001b[36m                                                              23 columns omitted\u001b[0m"
      ]
     },
     "metadata": {},
     "output_type": "display_data"
    }
   ],
   "source": [
    "# Adjust train\n",
    "\n",
    "# 2019 - apply 'adjustcolnames' for each column\n",
    "df_train_2019 = select(df_train, :station_id, Cols(r\"_2019\"))\n",
    "# add new column 'year'\n",
    "df_train_2019[!, \"year\"] .= 2019\n",
    "adjustcolnames(df_train_2019, \"_2019\")\n",
    "\n",
    "# 2020 - apply 'adjustcolnames' for each column\n",
    "df_train_2020 = select(df_train, :station_id, Cols(r\"_2020\"))\n",
    "# add new column 'year'\n",
    "df_train_2020[!, \"year\"] .= 2020\n",
    "adjustcolnames(df_train_2020, \"_2020\")\n",
    "\n",
    "# union the 2019/2020 dataframes into one\n",
    "df_train_all = vcat(df_train_2019, df_train_2020)\n",
    "\n",
    "# exclude 'station_id' and 'year'\n",
    "select!(df_train_all, Not([:year, :station_id]))\n",
    "first(df_train_all, 3)"
   ]
  },
  {
   "cell_type": "code",
   "execution_count": 6,
   "metadata": {},
   "outputs": [
    {
     "data": {
      "text/html": [
       "<div class=\"data-frame\"><p>3 rows × 28 columns (omitted printing of 22 columns)</p><table class=\"data-frame\"><thead><tr><th></th><th>aluminium</th><th>ammonium</th><th>boron</th><th>chloride</th><th>coli-like-bacteria-colilert</th><th>coli-like-bacteria</th></tr><tr><th></th><th title=\"Union{Missing, Float64}\">Float64?</th><th title=\"Union{Missing, Float64}\">Float64?</th><th title=\"Union{Missing, Float64}\">Float64?</th><th title=\"Union{Missing, Float64}\">Float64?</th><th title=\"Union{Missing, Float64}\">Float64?</th><th title=\"Union{Missing, Float64}\">Float64?</th></tr></thead><tbody><tr><th>1</th><td>5.0</td><td>0.08</td><td>0.071</td><td>130.0</td><td><em>missing</em></td><td>0.0</td></tr><tr><th>2</th><td><em>missing</em></td><td>0.08</td><td><em>missing</em></td><td><em>missing</em></td><td><em>missing</em></td><td>0.0</td></tr><tr><th>3</th><td><em>missing</em></td><td><em>missing</em></td><td><em>missing</em></td><td>112.0</td><td><em>missing</em></td><td><em>missing</em></td></tr></tbody></table></div>"
      ],
      "text/latex": [
       "\\begin{tabular}{r|ccccccc}\n",
       "\t& aluminium & ammonium & boron & chloride & coli-like-bacteria-colilert & coli-like-bacteria & \\\\\n",
       "\t\\hline\n",
       "\t& Float64? & Float64? & Float64? & Float64? & Float64? & Float64? & \\\\\n",
       "\t\\hline\n",
       "\t1 & 5.0 & 0.08 & 0.071 & 130.0 & \\emph{missing} & 0.0 & $\\dots$ \\\\\n",
       "\t2 & \\emph{missing} & 0.08 & \\emph{missing} & \\emph{missing} & \\emph{missing} & 0.0 & $\\dots$ \\\\\n",
       "\t3 & \\emph{missing} & \\emph{missing} & \\emph{missing} & 112.0 & \\emph{missing} & \\emph{missing} & $\\dots$ \\\\\n",
       "\\end{tabular}\n"
      ],
      "text/plain": [
       "\u001b[1m3×28 DataFrame\u001b[0m\n",
       "\u001b[1m Row \u001b[0m│\u001b[1m aluminium \u001b[0m\u001b[1m ammonium   \u001b[0m\u001b[1m boron       \u001b[0m\u001b[1m chloride  \u001b[0m\u001b[1m coli-like-bacteria-colil\u001b[0m ⋯\n",
       "\u001b[1m     \u001b[0m│\u001b[90m Float64?  \u001b[0m\u001b[90m Float64?   \u001b[0m\u001b[90m Float64?    \u001b[0m\u001b[90m Float64?  \u001b[0m\u001b[90m Float64?                \u001b[0m ⋯\n",
       "─────┼──────────────────────────────────────────────────────────────────────────\n",
       "   1 │       5.0        0.08        0.071      130.0 \u001b[90m                     miss\u001b[0m ⋯\n",
       "   2 │\u001b[90m missing   \u001b[0m       0.08 \u001b[90m missing     \u001b[0m\u001b[90m missing   \u001b[0m\u001b[90m                     miss\u001b[0m\n",
       "   3 │\u001b[90m missing   \u001b[0m\u001b[90m missing    \u001b[0m\u001b[90m missing     \u001b[0m     112.0 \u001b[90m                     miss\u001b[0m\n",
       "\u001b[36m                                                              24 columns omitted\u001b[0m"
      ]
     },
     "metadata": {},
     "output_type": "display_data"
    }
   ],
   "source": [
    "# Adjust test\n",
    "\n",
    "# 2019 - apply 'adjustcolnames' for each column\n",
    "df_test_2019 = select(df_test, :station_id, Cols(r\"_2019\"))\n",
    "# add new column 'year'\n",
    "df_test_2019[!, \"year\"] .= 2019\n",
    "adjustcolnames(df_test_2019, \"_2019\")\n",
    "\n",
    "# 2020 - apply 'adjustcolnames' for each column\n",
    "df_test_2020 = select(df_test, :station_id, Cols(r\"_2020\"))\n",
    "# add new column 'year'\n",
    "df_test_2020[!, \"year\"] .= 2020\n",
    "adjustcolnames(df_test_2020, \"_2020\")\n",
    "\n",
    "# union the 2019/2020 dataframes into one\n",
    "df_test_all = vcat(df_test_2019, df_test_2020)\n",
    "\n",
    "# exclude 'station_id' and 'year'\n",
    "select!(df_test_all, Not([:year, :station_id]))\n",
    "first(df_test_all, 3)"
   ]
  },
  {
   "cell_type": "markdown",
   "metadata": {},
   "source": [
    "### Save adjusted train/test datasets"
   ]
  },
  {
   "cell_type": "code",
   "execution_count": 7,
   "metadata": {},
   "outputs": [
    {
     "data": {
      "text/plain": [
       "\"/Volumes/Data Science 214386/DataScience214386/LTAT.02.023 - Explainable Automated Machine Learning/project-1/data/adjusted/test_adjusted.csv\""
      ]
     },
     "metadata": {},
     "output_type": "display_data"
    }
   ],
   "source": [
    "CSV.write(joinpath(@__DIR__, \"data/adjusted/train_adjusted.csv\"), delim=';', df_train_all)\n",
    "CSV.write(joinpath(@__DIR__, \"data/adjusted/test_adjusted.csv\"), delim=';', df_test_all)"
   ]
  }
 ],
 "metadata": {
  "kernelspec": {
   "display_name": "Julia 1.8.2",
   "language": "julia",
   "name": "julia-1.8"
  },
  "language_info": {
   "file_extension": ".jl",
   "mimetype": "application/julia",
   "name": "julia",
   "version": "1.8.2"
  },
  "orig_nbformat": 4
 },
 "nbformat": 4,
 "nbformat_minor": 2
}
