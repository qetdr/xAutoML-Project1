{
 "cells": [
  {
   "cell_type": "markdown",
   "id": "581c6cab",
   "metadata": {},
   "source": [
    "# Hyperparameter optimization"
   ]
  },
  {
   "cell_type": "markdown",
   "id": "189bd59a",
   "metadata": {},
   "source": [
    "After evaluating the performance of different modelling frameworks with baseline hyperparameters, the performance of the Gradiendt Boosting Classifier showed the highest accuracy score. Hence, we are proceeding with the Gradient Boosting Classifier (GBC), or the `sklearn` class `GradientBoostingClassifier()`.\n",
    "\n",
    "### Gradient Boosting Classifier\n",
    "#### What is Gradient Boosting?\n",
    "Before we start examining the hyperparameters of the Gradient Boosting Classifier (`GradientBoostingClassifier()`), it would be a good idea to recap on what this classifier is. So what is GBC? According to [this source](https://medium.com/analytics-vidhya/introduction-to-gradient-boosting-classification-da4e81f54d3):\n",
    "\n",
    ">Gradient Boosting is the grouping of gradient descent and boosting. In gradient boosting, each new model minimizes the loss function from its predecessor using the Gradient Descent Method. This procedure continues until a more optimal estimate of the target variable has been achieved.\n",
    "\n",
    "GBC, therefore, is a sequential ensemble model - meaning that in order to achieve great accuracy, a number of models need to run. Importantly, this cannot be done in parallel (hence, 'sequential'). This is important to note, as GBCs can get computationally costly, especially in a large hyperparameter space.\n",
    "\n",
    "#### Hyperparameters of GBC (and `GradientBoostingClassifier()`)\n",
    "The Hyperparameters of GBC are quite neatly covered in the [previously-used source](https://medium.com/analytics-vidhya/introduction-to-gradient-boosting-classification-da4e81f54d3). Here is a brief overview of most important hyperparameters:\n",
    "\n",
    "- **Learning rate**: by using gradient descent, this hyperparameter affects the speed of algorithm convergence. There is a tradeoff between the value size with smaller values minimizing overfitting (but taking more time until convergence) and larger values, while potentially not reaching an optimal fit, lead to a faster convergence.\n",
    "\n",
    "- **Number of trees**: how many trees are optimal to minimize the loss function? \n",
    "\n",
    "- **Depth of trees**: the number of splitsin a tree.\n",
    "\n",
    "- **Subsampling**: what is the proportion of trainig data used for training a tree? \n",
    "\n",
    "All this briefly summarized, let's start the analysis."
   ]
  },
  {
   "cell_type": "markdown",
   "id": "d518c6e7",
   "metadata": {},
   "source": [
    "## Setup"
   ]
  },
  {
   "cell_type": "code",
   "execution_count": 1,
   "id": "065c3354",
   "metadata": {},
   "outputs": [],
   "source": [
    "# Install packages\n",
    "#!pip install hyperopt\n",
    "#!pip install git+https://github.com/hyperopt/hyperopt.git"
   ]
  },
  {
   "cell_type": "code",
   "execution_count": 3,
   "id": "69141ddc",
   "metadata": {},
   "outputs": [],
   "source": [
    "# Libraries\n",
    "## General\n",
    "import pandas as pd\n",
    "import numpy as np\n",
    "import matplotlib.pyplot as plt\n",
    "import time\n",
    "\n",
    "## Model training and evaluation\n",
    "from sklearn.model_selection import RepeatedKFold\n",
    "from sklearn.model_selection import cross_val_score\n",
    "from sklearn.model_selection import train_test_split\n",
    "\n",
    "## Classifiers\n",
    "from sklearn.ensemble import GradientBoostingClassifier\n",
    "from sklearn.ensemble import RandomForestClassifier, AdaBoostClassifier\n",
    "from sklearn.discriminant_analysis import LinearDiscriminantAnalysis\n",
    "from sklearn.linear_model import LogisticRegression\n",
    "\n",
    "## Hyperopt\n",
    "from hyperopt import fmin, tpe, hp, STATUS_OK, Trials\n",
    "import hyperopt.pyll.stochastic\n",
    "\n",
    "## Misc\n",
    "from statsmodels.stats.contingency_tables import mcnemar # McNemar test\n",
    "import warnings\n",
    "warnings.filterwarnings(\"ignore\")\n",
    "\n",
    "# About FMIN: https://github.com/hyperopt/hyperopt/wiki/FMin"
   ]
  },
  {
   "cell_type": "markdown",
   "id": "29786a20",
   "metadata": {},
   "source": [
    "## Import the training and test data"
   ]
  },
  {
   "cell_type": "code",
   "execution_count": 5,
   "id": "69defb24",
   "metadata": {},
   "outputs": [
    {
     "data": {
      "text/html": [
       "<div>\n",
       "<style scoped>\n",
       "    .dataframe tbody tr th:only-of-type {\n",
       "        vertical-align: middle;\n",
       "    }\n",
       "\n",
       "    .dataframe tbody tr th {\n",
       "        vertical-align: top;\n",
       "    }\n",
       "\n",
       "    .dataframe thead th {\n",
       "        text-align: right;\n",
       "    }\n",
       "</style>\n",
       "<table border=\"1\" class=\"dataframe\">\n",
       "  <thead>\n",
       "    <tr style=\"text-align: right;\">\n",
       "      <th></th>\n",
       "      <th>aluminium;ammonium;boron;chloride;coli-like-bacteria-colilert;coli-like-bacteria;colony-count-at-22-c;color-pt-co-unit;color-pt/co-scale;electrical-conductivity;enterococci;escherichia-coli-colilert;escherichia-coli;fluoride;iron;manganese;nitrate;nitrite;odour-dilution-level;oxidability;smell-ball-units;sodium;sulphate;taste-ball-units;taste-dilution-degree;turbidity-ntu;ph ;compliance</th>\n",
       "    </tr>\n",
       "  </thead>\n",
       "  <tbody>\n",
       "    <tr>\n",
       "      <th>0</th>\n",
       "      <td>5.0;0.05;0.2;23.0;0.0;0.0;5.0;1.8;2.1;474.0;0....</td>\n",
       "    </tr>\n",
       "    <tr>\n",
       "      <th>1</th>\n",
       "      <td>5.0;0.05;0.2;23.0;0.0;0.0;0.0;5.0;0.0;465.0;0....</td>\n",
       "    </tr>\n",
       "    <tr>\n",
       "      <th>2</th>\n",
       "      <td>5.0;0.05;0.2;23.0;0.0;0.0;0.0;5.0;0.0;448.0;0....</td>\n",
       "    </tr>\n",
       "    <tr>\n",
       "      <th>3</th>\n",
       "      <td>5.0;0.09;0.641;23.0;0.0;0.0;15.0;5.0;4.0;978.0...</td>\n",
       "    </tr>\n",
       "    <tr>\n",
       "      <th>4</th>\n",
       "      <td>5.0;0.06;0.2;23.0;0.0;0.0;1.0;6.6;2.1;446.0;0....</td>\n",
       "    </tr>\n",
       "    <tr>\n",
       "      <th>...</th>\n",
       "      <td>...</td>\n",
       "    </tr>\n",
       "    <tr>\n",
       "      <th>875</th>\n",
       "      <td>5.0;0.05;0.2;23.0;0.0;0.0;3.0;5.0;3.0;622.0;0....</td>\n",
       "    </tr>\n",
       "    <tr>\n",
       "      <th>876</th>\n",
       "      <td>5.0;0.05;0.2;23.0;0.0;0.0;10.0;5.0;5.0;500.0;0...</td>\n",
       "    </tr>\n",
       "    <tr>\n",
       "      <th>877</th>\n",
       "      <td>5.0;0.27;0.274;14.0;0.0;0.0;66.0;5.0;6.0;596.0...</td>\n",
       "    </tr>\n",
       "    <tr>\n",
       "      <th>878</th>\n",
       "      <td>5.0;0.05;0.2;23.0;0.0;0.0;1.0;2.7;2.1;425.0;0....</td>\n",
       "    </tr>\n",
       "    <tr>\n",
       "      <th>879</th>\n",
       "      <td>5.0;0.05;0.2;23.0;0.0;0.0;18.0;5.0;3.0;603.0;0...</td>\n",
       "    </tr>\n",
       "  </tbody>\n",
       "</table>\n",
       "<p>880 rows × 1 columns</p>\n",
       "</div>"
      ],
      "text/plain": [
       "    aluminium;ammonium;boron;chloride;coli-like-bacteria-colilert;coli-like-bacteria;colony-count-at-22-c;color-pt-co-unit;color-pt/co-scale;electrical-conductivity;enterococci;escherichia-coli-colilert;escherichia-coli;fluoride;iron;manganese;nitrate;nitrite;odour-dilution-level;oxidability;smell-ball-units;sodium;sulphate;taste-ball-units;taste-dilution-degree;turbidity-ntu;ph ;compliance\n",
       "0    5.0;0.05;0.2;23.0;0.0;0.0;5.0;1.8;2.1;474.0;0....                                                                                                                                                                                                                                                                                                                                                   \n",
       "1    5.0;0.05;0.2;23.0;0.0;0.0;0.0;5.0;0.0;465.0;0....                                                                                                                                                                                                                                                                                                                                                   \n",
       "2    5.0;0.05;0.2;23.0;0.0;0.0;0.0;5.0;0.0;448.0;0....                                                                                                                                                                                                                                                                                                                                                   \n",
       "3    5.0;0.09;0.641;23.0;0.0;0.0;15.0;5.0;4.0;978.0...                                                                                                                                                                                                                                                                                                                                                   \n",
       "4    5.0;0.06;0.2;23.0;0.0;0.0;1.0;6.6;2.1;446.0;0....                                                                                                                                                                                                                                                                                                                                                   \n",
       "..                                                 ...                                                                                                                                                                                                                                                                                                                                                   \n",
       "875  5.0;0.05;0.2;23.0;0.0;0.0;3.0;5.0;3.0;622.0;0....                                                                                                                                                                                                                                                                                                                                                   \n",
       "876  5.0;0.05;0.2;23.0;0.0;0.0;10.0;5.0;5.0;500.0;0...                                                                                                                                                                                                                                                                                                                                                   \n",
       "877  5.0;0.27;0.274;14.0;0.0;0.0;66.0;5.0;6.0;596.0...                                                                                                                                                                                                                                                                                                                                                   \n",
       "878  5.0;0.05;0.2;23.0;0.0;0.0;1.0;2.7;2.1;425.0;0....                                                                                                                                                                                                                                                                                                                                                   \n",
       "879  5.0;0.05;0.2;23.0;0.0;0.0;18.0;5.0;3.0;603.0;0...                                                                                                                                                                                                                                                                                                                                                   \n",
       "\n",
       "[880 rows x 1 columns]"
      ]
     },
     "execution_count": 5,
     "metadata": {},
     "output_type": "execute_result"
    }
   ],
   "source": [
    "train_df"
   ]
  },
  {
   "cell_type": "code",
   "execution_count": 6,
   "id": "14fd2c2c",
   "metadata": {
    "scrolled": true
   },
   "outputs": [
    {
     "name": "stdout",
     "output_type": "stream",
     "text": [
      "X_train dims: (880, 27)\n",
      "y_train dims: (880,)\n",
      "X_test dims: (378, 27)\n",
      "y_test dims: (378,)\n"
     ]
    }
   ],
   "source": [
    "train_df = pd.read_csv(\"/home/marilin/xAutoML-Project1/fjodor/project-1/data/clean/train_clean.csv\", delimiter = \";\")\n",
    "test_df = pd.read_csv(\"/home/marilin/xAutoML-Project1/fjodor/project-1/data/clean/test_clean.csv\", delimiter = \";\")\n",
    "\n",
    "X_train = train_df.iloc[:,:27]\n",
    "y_train = train_df['compliance']\n",
    "\n",
    "# Training and validation data\n",
    "#X_train, X_val, y_train, y_val = train_test_split(train_df.iloc[:,:27], train_df['compliance_2020'], test_size=0.33, random_state=42)\n",
    "\n",
    "# Test data\n",
    "X_test = test_df.iloc[:,:27]\n",
    "y_test = test_df['compliance']\n",
    "\n",
    "print(f'X_train dims: {X_train.shape}')\n",
    "print(f'y_train dims: {y_train.shape}')\n",
    "\n",
    "#print(f'X_val dims: {X_val.shape}')\n",
    "#print(f'y_val dims: {y_val.shape}')\n",
    "\n",
    "print(f'X_test dims: {X_test.shape}')\n",
    "print(f'y_test dims: {y_test.shape}')"
   ]
  },
  {
   "cell_type": "markdown",
   "id": "78a4cddf",
   "metadata": {},
   "source": [
    "## Hyperparameter optimization\n",
    "A great resources for hyperparameter optimization using the `hyperopt`library can be found [here](https://medium.com/district-data-labs/parameter-tuning-with-hyperopt-faa86acdfdce).\n",
    "\n",
    "Running the hyperparameter optimization."
   ]
  },
  {
   "cell_type": "code",
   "execution_count": 7,
   "id": "530a6028",
   "metadata": {},
   "outputs": [],
   "source": [
    "names = [\n",
    "    \"Gradient Boosting Classifier\",\n",
    "    \"LDA\",\n",
    "    \"Random Forest\",\n",
    "    \"AdaBoost\",\n",
    "    \"Logistic Regression\"\n",
    "]\n",
    "\n",
    "classifiers = [\n",
    "    GradientBoostingClassifier(),\n",
    "    LinearDiscriminantAnalysis(),\n",
    "    RandomForestClassifier(),\n",
    "    AdaBoostClassifier(),\n",
    "    LogisticRegression() \n",
    "]\n",
    "\n",
    "search_spaces = [\n",
    "    \n",
    "    # GBC\n",
    "    {\n",
    "        'learning_rate': hp.choice('learning_rate', np.arange(0.001, 0.4, 0.001)), # default=0.1\n",
    "        'n_estimators': hp.choice('n_estimators', range(50, 250, 1)), # default=100\n",
    "        'subsample': hp.choice('subsample', np.arange(0.01, 1, 0.01)), # default=1.0\n",
    "        'max_depth': hp.choice('max_depth', range(1,20)), # default=3\n",
    "        'max_features': hp.choice('max_features', ['auto', 'sqrt', 'log2']), # default=None\n",
    "     #   'criterion': hp.choice('criterion', [\"friedman_mse\", \"squared_error\"]) # default=’friedman_mse’\n",
    "    },\n",
    "    \n",
    "    # LDA\n",
    "    {\n",
    "        'solver': hp.choice('solver', ['lsqr', 'eigen']), # default=’svd’\n",
    "        'shrinkage': hp.choice('shrinkage', np.arange(0.01, 1, 0.01)), # default=None # not supported with 'svd' solver\n",
    "        \n",
    "    },\n",
    "    \n",
    "    # RF\n",
    "    {\n",
    "        'n_estimators': hp.choice('n_estimators', range(50, 250, 1)), # default=100\n",
    "        'min_samples_split': hp.choice('min_samples_split', range(2, 7, 1)), # default=2\n",
    "        'max_features': hp.choice('max_features', ['sqrt', 'log2']), # default='sqrt'\n",
    "    },\n",
    "    \n",
    "    # AdaBoost\n",
    "    {\n",
    "        'learning_rate': hp.choice('learning_rate', np.arange(0.001, 0.4, 0.001)), # default=1.0\n",
    "        'n_estimators': hp.choice('n_estimators', range(50, 250, 1)), # default=100\n",
    "        \n",
    "    },\n",
    "    \n",
    "    # Logistic Regression\n",
    "    { \n",
    "        'penalty': hp.choice('penalty', ['l1', 'l2', 'elasticnet', 'none']), # default=’l2’\n",
    "        'l1_ratio': hp.choice('l1_ratio', np.arange(0.01, 1, 0.01)),\n",
    "        'C': hp.choice('C', np.arange(0.01, 1, 0.01)), # default = 1.0\n",
    "        'solver': 'saga' # # use solver = 'saga' for using different penalties\n",
    "    }   \n",
    "]"
   ]
  },
  {
   "cell_type": "code",
   "execution_count": null,
   "id": "ec99caa2",
   "metadata": {
    "scrolled": false
   },
   "outputs": [
    {
     "name": "stdout",
     "output_type": "stream",
     "text": [
      "\n",
      "Using the *Gradient Boosting Classifier* for estimation.\n",
      "new best:                                                                                                \n",
      "0.93                                                                                                     \n",
      "{'learning_rate': 0.382, 'max_depth': 8, 'max_features': 'log2', 'n_estimators': 69, 'subsample': 0.3}   \n",
      "new best:                                                                                                \n",
      "0.9738636363636364                                                                                       \n",
      "{'learning_rate': 0.08, 'max_depth': 14, 'max_features': 'auto', 'n_estimators': 79, 'subsample': 0.32}  \n",
      "new best:                                                                                                \n",
      "0.9740909090909091                                                                                       \n",
      "{'learning_rate': 0.177, 'max_depth': 7, 'max_features': 'auto', 'n_estimators': 59, 'subsample': 0.32}  \n",
      "new best:                                                                                                \n",
      "0.9772727272727272                                                                                       \n",
      "{'learning_rate': 0.078, 'max_depth': 14, 'max_features': 'auto', 'n_estimators': 221, 'subsample': 0.85}\n",
      "new best:                                                                                                \n",
      "0.9804545454545455                                                                                       \n",
      "{'learning_rate': 0.158, 'max_depth': 5, 'max_features': 'sqrt', 'n_estimators': 146, 'subsample': 0.86} \n",
      "new best:                                                                                                \n",
      "0.9811363636363637                                                                                       \n",
      "{'learning_rate': 0.306, 'max_depth': 5, 'max_features': 'sqrt', 'n_estimators': 208, 'subsample': 0.8200000000000001}\n",
      "new best:                                                                                                \n",
      "0.9818181818181817                                                                                       \n",
      "{'learning_rate': 0.162, 'max_depth': 5, 'max_features': 'auto', 'n_estimators': 146, 'subsample': 0.8200000000000001}\n",
      "new best:                                                                                                \n",
      "0.9834090909090909                                                                                       \n",
      "{'learning_rate': 0.23600000000000002, 'max_depth': 3, 'max_features': 'auto', 'n_estimators': 129, 'subsample': 0.74}\n",
      "new best:                                                                                                \n",
      "0.9834090909090911                                                                                       \n",
      "{'learning_rate': 0.383, 'max_depth': 6, 'max_features': 'auto', 'n_estimators': 183, 'subsample': 0.88} \n",
      "100%|███████████████████████████████| 100/100 [13:50<00:00,  8.31s/trial, best loss: -0.9834090909090911]\n",
      "\n",
      "Using the *LDA* for estimation.\n",
      "new best:                                                                                                \n",
      "0.8409090909090909                                                                                       \n",
      "{'shrinkage': 0.02, 'solver': 'eigen'}                                                                   \n",
      "new best:                                                                                                \n",
      "0.8515909090909091                                                                                       \n",
      "{'shrinkage': 0.64, 'solver': 'lsqr'}                                                                    \n",
      "new best:                                                                                                \n",
      "0.8572727272727272                                                                                       \n",
      "{'shrinkage': 0.76, 'solver': 'eigen'}                                                                   \n",
      "new best:                                                                                                \n",
      "0.8581818181818182                                                                                       \n",
      "{'shrinkage': 0.91, 'solver': 'eigen'}                                                                   \n",
      "new best:                                                                                                \n",
      "0.8643181818181818                                                                                       \n",
      "{'shrinkage': 0.99, 'solver': 'eigen'}                                                                   \n",
      "new best:                                                                                                \n",
      "0.8650000000000001                                                                                       \n",
      "{'shrinkage': 0.99, 'solver': 'eigen'}                                                                   \n",
      "new best:                                                                                                \n",
      "0.8654545454545454                                                                                       \n",
      "{'shrinkage': 0.98, 'solver': 'eigen'}                                                                   \n",
      "100%|███████████████████████████████| 100/100 [00:13<00:00,  7.23trial/s, best loss: -0.8654545454545454]\n",
      "\n",
      "Using the *Random Forest* for estimation.\n",
      "new best:                                                                                                \n",
      "0.9715909090909091                                                                                       \n",
      "{'max_features': 'log2', 'min_samples_split': 3, 'n_estimators': 150}                                    \n",
      "new best:                                                                                                \n",
      "0.9738636363636363                                                                                       \n",
      "{'max_features': 'sqrt', 'min_samples_split': 4, 'n_estimators': 233}                                    \n",
      "new best:                                                                                                \n",
      "0.9740909090909091                                                                                       \n",
      "{'max_features': 'sqrt', 'min_samples_split': 2, 'n_estimators': 221}                                    \n",
      "new best:                                                                                                \n",
      "0.9740909090909092                                                                                       \n",
      "{'max_features': 'sqrt', 'min_samples_split': 2, 'n_estimators': 83}                                     \n",
      "new best:                                                                                                \n",
      "0.975                                                                                                    \n",
      "{'max_features': 'sqrt', 'min_samples_split': 2, 'n_estimators': 167}                                    \n",
      "new best:                                                                                                \n",
      "0.9752272727272728                                                                                       \n",
      "{'max_features': 'sqrt', 'min_samples_split': 5, 'n_estimators': 102}                                    \n",
      "100%|███████████████████████████████| 100/100 [09:47<00:00,  5.87s/trial, best loss: -0.9752272727272728]\n",
      "\n",
      "Using the *AdaBoost* for estimation.\n",
      "new best:                                                                                                \n",
      "0.9793181818181818                                                                                       \n",
      "{'learning_rate': 0.386, 'n_estimators': 122}                                                            \n",
      "new best:                                                                                                \n",
      "0.9831818181818183                                                                                       \n",
      "{'learning_rate': 0.392, 'n_estimators': 113}                                                            \n"
     ]
    },
    {
     "name": "stdout",
     "output_type": "stream",
     "text": [
      "new best:                                                                                                \n",
      "0.9845454545454545                                                                                       \n",
      "{'learning_rate': 0.275, 'n_estimators': 163}                                                            \n",
      " 94%|██████████████████████████████  | 94/100 [09:58<00:39,  6.60s/trial, best loss: -0.9845454545454545]"
     ]
    }
   ],
   "source": [
    "# Initialize a dataframe for results collection\n",
    "model_results = pd.DataFrame(columns = ['classifier', 'best_cv_score', 'runtime_hpo', 'best_params', 'test_acc'])\n",
    "model_results.head()\n",
    "\n",
    "# Run the HPO and get the best params for each classifier\n",
    "for i in range(len(classifiers)):\n",
    "    \n",
    "    print()\n",
    "    print(f'Using the *{names[i]}* for estimation.')\n",
    "    \n",
    "    def hyperopt_cv_score(params):\n",
    "        cv = RepeatedKFold(n_splits=5, n_repeats=5)\n",
    "        model = classifiers[i].set_params(**params) # use the classifier from the list\n",
    "        return cross_val_score(model, \n",
    "                               X_train, y_train, \n",
    "                               cv = cv,  \n",
    "                               scoring = 'accuracy',\n",
    "                               error_score='raise').mean() #np.mean(gbc.predict(X_test) == y_test)\n",
    "\n",
    "    def f(params):\n",
    "        global best_cv_score\n",
    "        global best_params\n",
    "        global best_time\n",
    "        cv_score = hyperopt_cv_score(params)\n",
    "        if cv_score > best_cv_score:\n",
    "            best_cv_score = cv_score # what is the best score?\n",
    "            best_params = params # what are the best params?\n",
    "            best_time = round(time.time() - start_time,4) # track how much time it took to find the best params\n",
    "            print('new best:', best_cv_score, best_params)\n",
    "        return {'loss': -cv_score, # see the comment below\n",
    "                'status': STATUS_OK}\n",
    "        # Comment regarding 'negative accuracy' (from the referenced source):\n",
    "        ## Since we are trying to maximize the accuracy (acc in the code above), \n",
    "        ## we must negate this value for hyperopt, since hyperopt only knows how to minimize a function. \n",
    "        ## Minimizing a function f is the same as maximizing the negative of f.\n",
    "\n",
    "    best_cv_score = 0\n",
    "    best_params = None\n",
    "    best_time = 0\n",
    "    trials = Trials() # store info at each step\n",
    "    \n",
    "    # Start running the algorithm and track time\n",
    "    start_time = time.time()\n",
    "    best = fmin(f, \n",
    "                search_spaces[i], # use the search space associated with the classifier\n",
    "                algo = tpe.suggest, \n",
    "                max_evals = 100, # how many evaluations?\n",
    "                trials = trials)\n",
    "    \n",
    "    # save trials\n",
    "    \n",
    "    \n",
    "    # Compute the accuracy score on the best model of the classifier\n",
    "    m = classifiers[i].set_params(**best_params).fit(X_train, y_train)\n",
    "    score_test = m.score(X_test, y_test)\n",
    "    \n",
    "    \n",
    "    # Append the best results to the df\n",
    "    model_results = model_results.append({'classifier': names[i], \n",
    "                             'best_cv_score': best_cv_score, \n",
    "                             'runtime_hpo': best_time, \n",
    "                             'best_params': best_params,\n",
    "                             'test_acc': score_test}, ignore_index = True)\n",
    "\n",
    "# Sort the model results by test accuracy score and then Runtime\n",
    "model_results = model_results.sort_values(['test_acc', 'runtime_hpo'], ascending = [0,1]).reset_index(drop = True)"
   ]
  },
  {
   "cell_type": "markdown",
   "id": "67c44771",
   "metadata": {},
   "source": [
    "Let's look at the results:"
   ]
  },
  {
   "cell_type": "code",
   "execution_count": null,
   "id": "00b6a93d",
   "metadata": {},
   "outputs": [],
   "source": [
    "model_results"
   ]
  },
  {
   "cell_type": "markdown",
   "id": "1910a2f4",
   "metadata": {},
   "source": [
    "Let's plot the model test set accuracy against runtime."
   ]
  },
  {
   "cell_type": "code",
   "execution_count": 7,
   "id": "cc5b7b8c",
   "metadata": {},
   "outputs": [
    {
     "data": {
      "image/png": "[encoded data removed]",
      "text/plain": [
       "<Figure size 500x500 with 1 Axes>"
      ]
     },
     "metadata": {},
     "output_type": "display_data"
    }
   ],
   "source": [
    "plt.figure(figsize = [5, 5])\n",
    "\n",
    "for i in range(len(model_results)):\n",
    "    # Add classifier values\n",
    "    plt.scatter(model_results['runtime_hpo'][i], \n",
    "            model_results['test_acc'][i], \n",
    "            label = model_results['classifier'][i],\n",
    "               marker = 'x',\n",
    "               s = 60)\n",
    "    # Add a dashed lined marking the best accuracy threshold for classifier\n",
    "    plt.hlines(y = model_results['test_acc'][i], \n",
    "               xmin=0, \n",
    "               xmax = np.max(model_results['runtime_hpo'])+1,\n",
    "              linestyles = 'dashed', alpha = 0.3, color = 'grey')\n",
    "    # Add classifier name\n",
    "    plt.annotate(model_results['classifier'][i], \n",
    "                 (model_results['runtime_hpo'][i]+1, \n",
    "                  model_results['test_acc'][i]),\n",
    "                )\n",
    "plt.ylim(bottom = 0.70, top = 1.01)\n",
    "plt.xlabel('Runtime (s)')\n",
    "plt.ylabel('Test accuracy')\n",
    "plt.title('Runtime until the best parameters were found')\n",
    "plt.show();"
   ]
  },
  {
   "cell_type": "markdown",
   "id": "715ad627",
   "metadata": {},
   "source": [
    "Let's plot the accuracy values over each iteration with the baseline accuracy as the reference point."
   ]
  },
  {
   "cell_type": "markdown",
   "id": "bd6502ec",
   "metadata": {},
   "source": [
    "Let's plot the values of parameters and accuracy"
   ]
  },
  {
   "cell_type": "code",
   "execution_count": 8,
   "id": "0b884ec3",
   "metadata": {
    "scrolled": true
   },
   "outputs": [],
   "source": [
    "# Plot for parameters\n",
    "## Tutorial: https://medium.com/district-data-labs/parameter-tuning-with-hyperopt-faa86acdfdce\n",
    "#parameters = ['learning_rate', 'n_estimators',\n",
    "#              'subsample', 'max_depth', \n",
    "#              'max_features', 'criterion']\n",
    "\n",
    "#f, axes = plt.subplots(nrows=2, ncols=3, figsize=(10,5))\n",
    "#f.tight_layout()\n",
    "#cmap = plt.cm.jet\n",
    "#for i, val in enumerate(parameters):\n",
    "#    # print (i, val)\n",
    "#    # Getting the hyperparameter and loss values with list comprehension\n",
    "#    xs = np.array([t['misc']['vals'][val] for t in trials.trials]).ravel()\n",
    "#    ys = [-t['result']['loss'] for t in trials.trials]\n",
    "#    # Making the necessary sorting\n",
    "#    xs, ys =  zip(*sorted(zip(xs, ys)))\n",
    "#    ys = np.array(ys)\n",
    "#    # Plot\n",
    "#    axes[int(i/3),int(i%3)].scatter(xs, ys, \n",
    "#                          s=20, \n",
    "#                          linewidth=0.01, \n",
    "#                         # alpha= 0.5,\n",
    "#                          color=cmap(float(i)/len(parameters))\n",
    "#                                   )\n",
    "#    axes[int(i/3),int(i%3)].set_title(val)\n",
    "#    axes[int(i/3),int(i%3)].set_ylim([0.2,1.0])\n",
    "#    \n",
    "#plt.show();"
   ]
  },
  {
   "cell_type": "markdown",
   "id": "4e2dd412",
   "metadata": {},
   "source": [
    "## Experimenting with `hyperopt-sklearn`\n",
    "Above, we provided the definition for the search space. Hoqever, `hyperopt` can also function without explicitly specifying the search space - enter `hyperopt-sklearn`, a presently developed library (see [here](https://github.com/hyperopt/hyperopt-sklearn) that provides more automation for hyperparameter optimization. \n",
    "\n",
    "Below we will run the classifier used above without specified search space. Of note, this might mean that some models will not compute or converge, since some hyperparameter combinations do not work together. In those cases, we just skip the hyperparameter combination and proceed.\n",
    "\n",
    "The advantages is that we can reduce manual work in specifying hyperparameter space for each classifier. The main disadvantage is that some of the pereviously-used functions are not easily programmable here, i.e., the `hypropt-sklearn` is somewhat less flexible."
   ]
  },
  {
   "cell_type": "code",
   "execution_count": 9,
   "id": "a9c79248",
   "metadata": {},
   "outputs": [],
   "source": [
    "# !pip install git+https://github.com/hyperopt/hyperopt-sklearn\n",
    "from hpsklearn import HyperoptEstimator, gradient_boosting_classifier, ada_boost_classifier, random_forest_classifier, logistic_regression, linear_discriminant_analysis"
   ]
  },
  {
   "cell_type": "code",
   "execution_count": 10,
   "id": "58009fa3",
   "metadata": {
    "scrolled": true
   },
   "outputs": [
    {
     "name": "stdout",
     "output_type": "stream",
     "text": [
      "\n",
      "Using the *Gradient Boosting Classifier* for estimation.\n",
      "100%|██████████| 1/1 [00:01<00:00,  1.27s/trial, best loss: 0.15384615384615385]\n",
      " 50%|██████████████████▌                  | 1/2 [00:00<?, ?trial/s, best loss=?]"
     ]
    },
    {
     "name": "stderr",
     "output_type": "stream",
     "text": [
      "/Users/drdr/opt/anaconda3/envs/automl_2022/lib/python3.8/site-packages/sklearn/ensemble/_gb.py:310: FutureWarning: The loss parameter name 'deviance' was deprecated in v1.1 and will be removed in version 1.3. Use the new parameter name 'log_loss' which is equivalent.\n",
      "  warnings.warn(\n"
     ]
    },
    {
     "name": "stdout",
     "output_type": "stream",
     "text": [
      "100%|██████████| 2/2 [00:01<00:00,  1.14s/trial, best loss: 0.15384615384615385]\n",
      "100%|██████████| 3/3 [00:01<00:00,  1.10s/trial, best loss: 0.15384615384615385]\n",
      " 75%|███████████████████████████▊         | 3/4 [00:00<?, ?trial/s, best loss=?]"
     ]
    },
    {
     "name": "stderr",
     "output_type": "stream",
     "text": [
      "/Users/drdr/opt/anaconda3/envs/automl_2022/lib/python3.8/site-packages/sklearn/ensemble/_gb.py:310: FutureWarning: The loss parameter name 'deviance' was deprecated in v1.1 and will be removed in version 1.3. Use the new parameter name 'log_loss' which is equivalent.\n",
      "  warnings.warn(\n"
     ]
    },
    {
     "name": "stdout",
     "output_type": "stream",
     "text": [
      "100%|██████████| 4/4 [00:01<00:00,  1.91s/trial, best loss: 0.15384615384615385]\n",
      " 80%|█████████████████████████████▌       | 4/5 [00:00<?, ?trial/s, best loss=?]"
     ]
    },
    {
     "name": "stderr",
     "output_type": "stream",
     "text": [
      "/Users/drdr/opt/anaconda3/envs/automl_2022/lib/python3.8/site-packages/sklearn/ensemble/_gb.py:310: FutureWarning: The loss parameter name 'deviance' was deprecated in v1.1 and will be removed in version 1.3. Use the new parameter name 'log_loss' which is equivalent.\n",
      "  warnings.warn(\n"
     ]
    },
    {
     "name": "stdout",
     "output_type": "stream",
     "text": [
      "100%|██████████| 5/5 [00:01<00:00,  1.11s/trial, best loss: 0.15384615384615385]\n",
      " 83%|██████████████████████████████▊      | 5/6 [00:00<?, ?trial/s, best loss=?]"
     ]
    },
    {
     "name": "stderr",
     "output_type": "stream",
     "text": [
      "/Users/drdr/opt/anaconda3/envs/automl_2022/lib/python3.8/site-packages/sklearn/ensemble/_gb.py:310: FutureWarning: The loss parameter name 'deviance' was deprecated in v1.1 and will be removed in version 1.3. Use the new parameter name 'log_loss' which is equivalent.\n",
      "  warnings.warn(\n"
     ]
    },
    {
     "name": "stdout",
     "output_type": "stream",
     "text": [
      "100%|██████████| 6/6 [00:01<00:00,  1.28s/trial, best loss: 0.11538461538461542]\n",
      "100%|██████████| 7/7 [00:01<00:00,  1.14s/trial, best loss: 0.11538461538461542]\n",
      " 88%|████████████████████████████████▍    | 7/8 [00:00<?, ?trial/s, best loss=?]"
     ]
    },
    {
     "name": "stderr",
     "output_type": "stream",
     "text": [
      "/Users/drdr/opt/anaconda3/envs/automl_2022/lib/python3.8/site-packages/sklearn/ensemble/_gb.py:310: FutureWarning: The loss parameter name 'deviance' was deprecated in v1.1 and will be removed in version 1.3. Use the new parameter name 'log_loss' which is equivalent.\n",
      "  warnings.warn(\n"
     ]
    },
    {
     "name": "stdout",
     "output_type": "stream",
     "text": [
      "100%|██████████| 8/8 [00:01<00:00,  1.13s/trial, best loss: 0.11538461538461542]\n",
      " 89%|████████████████████████████████▉    | 8/9 [00:00<?, ?trial/s, best loss=?]"
     ]
    },
    {
     "name": "stderr",
     "output_type": "stream",
     "text": [
      "/Users/drdr/opt/anaconda3/envs/automl_2022/lib/python3.8/site-packages/sklearn/ensemble/_gb.py:310: FutureWarning: The loss parameter name 'deviance' was deprecated in v1.1 and will be removed in version 1.3. Use the new parameter name 'log_loss' which is equivalent.\n",
      "  warnings.warn(\n"
     ]
    },
    {
     "name": "stdout",
     "output_type": "stream",
     "text": [
      "100%|██████████| 9/9 [00:01<00:00,  1.10s/trial, best loss: 0.11538461538461542]\n",
      "100%|████████| 10/10 [00:01<00:00,  1.17s/trial, best loss: 0.11538461538461542]\n",
      " 91%|███████████████████████████████▊   | 10/11 [00:00<?, ?trial/s, best loss=?]"
     ]
    },
    {
     "name": "stderr",
     "output_type": "stream",
     "text": [
      "/Users/drdr/opt/anaconda3/envs/automl_2022/lib/python3.8/site-packages/sklearn/ensemble/_gb.py:310: FutureWarning: The loss parameter name 'deviance' was deprecated in v1.1 and will be removed in version 1.3. Use the new parameter name 'log_loss' which is equivalent.\n",
      "  warnings.warn(\n"
     ]
    },
    {
     "name": "stdout",
     "output_type": "stream",
     "text": [
      "100%|████████| 11/11 [00:01<00:00,  1.13s/trial, best loss: 0.11538461538461542]\n",
      " 92%|████████████████████████████████   | 11/12 [00:00<?, ?trial/s, best loss=?]"
     ]
    },
    {
     "name": "stderr",
     "output_type": "stream",
     "text": [
      "/Users/drdr/opt/anaconda3/envs/automl_2022/lib/python3.8/site-packages/sklearn/ensemble/_gb.py:310: FutureWarning: The loss parameter name 'deviance' was deprecated in v1.1 and will be removed in version 1.3. Use the new parameter name 'log_loss' which is equivalent.\n",
      "  warnings.warn(\n"
     ]
    },
    {
     "name": "stdout",
     "output_type": "stream",
     "text": [
      "100%|████████| 12/12 [00:01<00:00,  1.14s/trial, best loss: 0.11538461538461542]\n",
      "100%|████████| 13/13 [00:01<00:00,  1.23s/trial, best loss: 0.11538461538461542]\n",
      " 93%|████████████████████████████████▌  | 13/14 [00:00<?, ?trial/s, best loss=?]"
     ]
    },
    {
     "name": "stderr",
     "output_type": "stream",
     "text": [
      "/Users/drdr/opt/anaconda3/envs/automl_2022/lib/python3.8/site-packages/sklearn/ensemble/_gb.py:310: FutureWarning: The loss parameter name 'deviance' was deprecated in v1.1 and will be removed in version 1.3. Use the new parameter name 'log_loss' which is equivalent.\n",
      "  warnings.warn(\n"
     ]
    },
    {
     "name": "stdout",
     "output_type": "stream",
     "text": [
      "100%|████████| 14/14 [00:01<00:00,  1.19s/trial, best loss: 0.11538461538461542]\n",
      "100%|████████| 15/15 [00:01<00:00,  1.18s/trial, best loss: 0.11538461538461542]\n",
      "100%|████████| 16/16 [00:01<00:00,  1.12s/trial, best loss: 0.11538461538461542]\n",
      " 94%|████████████████████████████████▉  | 16/17 [00:00<?, ?trial/s, best loss=?]"
     ]
    },
    {
     "name": "stderr",
     "output_type": "stream",
     "text": [
      "/Users/drdr/opt/anaconda3/envs/automl_2022/lib/python3.8/site-packages/sklearn/ensemble/_gb.py:310: FutureWarning: The loss parameter name 'deviance' was deprecated in v1.1 and will be removed in version 1.3. Use the new parameter name 'log_loss' which is equivalent.\n",
      "  warnings.warn(\n"
     ]
    },
    {
     "name": "stdout",
     "output_type": "stream",
     "text": [
      "100%|████████| 17/17 [00:01<00:00,  1.10s/trial, best loss: 0.11538461538461542]\n",
      " 94%|█████████████████████████████████  | 17/18 [00:00<?, ?trial/s, best loss=?]"
     ]
    },
    {
     "name": "stderr",
     "output_type": "stream",
     "text": [
      "/Users/drdr/opt/anaconda3/envs/automl_2022/lib/python3.8/site-packages/sklearn/ensemble/_gb.py:310: FutureWarning: The loss parameter name 'deviance' was deprecated in v1.1 and will be removed in version 1.3. Use the new parameter name 'log_loss' which is equivalent.\n",
      "  warnings.warn(\n"
     ]
    },
    {
     "name": "stdout",
     "output_type": "stream",
     "text": [
      "100%|████████| 18/18 [00:01<00:00,  1.09s/trial, best loss: 0.11538461538461542]\n",
      "100%|████████| 19/19 [00:01<00:00,  1.12s/trial, best loss: 0.10256410256410253]\n",
      "100%|████████| 20/20 [00:01<00:00,  1.27s/trial, best loss: 0.10256410256410253]\n",
      " 95%|█████████████████████████████████▎ | 20/21 [00:00<?, ?trial/s, best loss=?]"
     ]
    },
    {
     "name": "stderr",
     "output_type": "stream",
     "text": [
      "/Users/drdr/opt/anaconda3/envs/automl_2022/lib/python3.8/site-packages/sklearn/ensemble/_gb.py:310: FutureWarning: The loss parameter name 'deviance' was deprecated in v1.1 and will be removed in version 1.3. Use the new parameter name 'log_loss' which is equivalent.\n",
      "  warnings.warn(\n"
     ]
    },
    {
     "name": "stdout",
     "output_type": "stream",
     "text": [
      "100%|████████| 21/21 [00:01<00:00,  1.12s/trial, best loss: 0.10256410256410253]\n",
      "100%|████████| 22/22 [00:01<00:00,  1.10s/trial, best loss: 0.10256410256410253]\n",
      "100%|████████| 23/23 [00:01<00:00,  1.17s/trial, best loss: 0.10256410256410253]\n",
      "100%|████████| 24/24 [00:01<00:00,  1.46s/trial, best loss: 0.10256410256410253]\n",
      "100%|████████| 25/25 [00:01<00:00,  1.10s/trial, best loss: 0.08974358974358976]\n",
      "100%|█████████| 26/26 [00:01<00:00,  1.10s/trial, best loss: 0.0641025641025641]\n",
      "100%|█████████| 27/27 [00:01<00:00,  1.10s/trial, best loss: 0.0641025641025641]\n",
      "100%|█████████| 28/28 [00:01<00:00,  1.16s/trial, best loss: 0.0641025641025641]\n",
      "100%|█████████| 29/29 [00:01<00:00,  1.11s/trial, best loss: 0.0641025641025641]\n",
      "100%|█████████| 30/30 [00:01<00:00,  1.10s/trial, best loss: 0.0641025641025641]\n",
      "100%|█████████| 31/31 [00:01<00:00,  1.10s/trial, best loss: 0.0641025641025641]\n",
      "100%|█████████| 32/32 [00:01<00:00,  1.10s/trial, best loss: 0.0641025641025641]\n",
      "100%|█████████| 33/33 [00:01<00:00,  1.10s/trial, best loss: 0.0641025641025641]\n",
      "100%|█████████| 34/34 [00:01<00:00,  1.11s/trial, best loss: 0.0641025641025641]\n",
      "100%|█████████| 35/35 [00:01<00:00,  1.33s/trial, best loss: 0.0641025641025641]\n",
      "100%|█████████| 36/36 [00:01<00:00,  1.11s/trial, best loss: 0.0641025641025641]\n",
      "100%|█████████| 37/37 [00:01<00:00,  1.16s/trial, best loss: 0.0641025641025641]\n",
      "100%|█████████| 38/38 [00:01<00:00,  1.12s/trial, best loss: 0.0641025641025641]\n",
      "100%|█████████| 39/39 [00:01<00:00,  1.14s/trial, best loss: 0.0641025641025641]\n",
      "100%|█████████| 40/40 [00:01<00:00,  1.17s/trial, best loss: 0.0641025641025641]\n",
      "100%|█████████| 41/41 [00:01<00:00,  1.37s/trial, best loss: 0.0641025641025641]\n",
      "100%|█████████| 42/42 [00:01<00:00,  1.18s/trial, best loss: 0.0641025641025641]\n",
      " 98%|██████████████████████████████████▏| 42/43 [00:00<?, ?trial/s, best loss=?]"
     ]
    },
    {
     "name": "stderr",
     "output_type": "stream",
     "text": [
      "/Users/drdr/opt/anaconda3/envs/automl_2022/lib/python3.8/site-packages/sklearn/ensemble/_gb.py:310: FutureWarning: The loss parameter name 'deviance' was deprecated in v1.1 and will be removed in version 1.3. Use the new parameter name 'log_loss' which is equivalent.\n",
      "  warnings.warn(\n"
     ]
    },
    {
     "name": "stdout",
     "output_type": "stream",
     "text": [
      "100%|█████████| 43/43 [00:01<00:00,  1.42s/trial, best loss: 0.0641025641025641]\n",
      "100%|█████████| 44/44 [00:01<00:00,  1.19s/trial, best loss: 0.0641025641025641]\n",
      " 98%|██████████████████████████████████▏| 44/45 [00:00<?, ?trial/s, best loss=?]"
     ]
    },
    {
     "name": "stderr",
     "output_type": "stream",
     "text": [
      "/Users/drdr/opt/anaconda3/envs/automl_2022/lib/python3.8/site-packages/sklearn/ensemble/_gb.py:310: FutureWarning: The loss parameter name 'deviance' was deprecated in v1.1 and will be removed in version 1.3. Use the new parameter name 'log_loss' which is equivalent.\n",
      "  warnings.warn(\n"
     ]
    },
    {
     "name": "stdout",
     "output_type": "stream",
     "text": [
      "100%|█████████| 45/45 [00:01<00:00,  1.42s/trial, best loss: 0.0641025641025641]\n",
      "100%|█████████| 46/46 [00:01<00:00,  1.23s/trial, best loss: 0.0641025641025641]\n",
      "100%|█████████| 47/47 [00:01<00:00,  1.62s/trial, best loss: 0.0641025641025641]\n",
      " 98%|██████████████████████████████████▎| 47/48 [00:00<?, ?trial/s, best loss=?]"
     ]
    },
    {
     "name": "stderr",
     "output_type": "stream",
     "text": [
      "/Users/drdr/opt/anaconda3/envs/automl_2022/lib/python3.8/site-packages/sklearn/ensemble/_gb.py:310: FutureWarning: The loss parameter name 'deviance' was deprecated in v1.1 and will be removed in version 1.3. Use the new parameter name 'log_loss' which is equivalent.\n",
      "  warnings.warn(\n"
     ]
    },
    {
     "name": "stdout",
     "output_type": "stream",
     "text": [
      "100%|█████████| 48/48 [00:01<00:00,  1.20s/trial, best loss: 0.0641025641025641]\n",
      "100%|█████████| 49/49 [00:01<00:00,  1.16s/trial, best loss: 0.0641025641025641]\n",
      " 98%|██████████████████████████████████▎| 49/50 [00:00<?, ?trial/s, best loss=?]"
     ]
    },
    {
     "name": "stderr",
     "output_type": "stream",
     "text": [
      "/Users/drdr/opt/anaconda3/envs/automl_2022/lib/python3.8/site-packages/sklearn/ensemble/_gb.py:310: FutureWarning: The loss parameter name 'deviance' was deprecated in v1.1 and will be removed in version 1.3. Use the new parameter name 'log_loss' which is equivalent.\n",
      "  warnings.warn(\n"
     ]
    },
    {
     "name": "stdout",
     "output_type": "stream",
     "text": [
      "100%|█████████| 50/50 [00:01<00:00,  1.28s/trial, best loss: 0.0641025641025641]\n",
      "100%|█████████| 51/51 [00:01<00:00,  1.20s/trial, best loss: 0.0641025641025641]\n",
      "100%|█████████| 52/52 [00:01<00:00,  1.18s/trial, best loss: 0.0641025641025641]\n",
      " 98%|██████████████████████████████████▎| 52/53 [00:00<?, ?trial/s, best loss=?]"
     ]
    },
    {
     "name": "stderr",
     "output_type": "stream",
     "text": [
      "/Users/drdr/opt/anaconda3/envs/automl_2022/lib/python3.8/site-packages/sklearn/ensemble/_gb.py:310: FutureWarning: The loss parameter name 'deviance' was deprecated in v1.1 and will be removed in version 1.3. Use the new parameter name 'log_loss' which is equivalent.\n",
      "  warnings.warn(\n"
     ]
    },
    {
     "name": "stdout",
     "output_type": "stream",
     "text": [
      "100%|█████████| 53/53 [00:01<00:00,  1.12s/trial, best loss: 0.0641025641025641]\n",
      "100%|█████████| 54/54 [00:01<00:00,  1.12s/trial, best loss: 0.0641025641025641]\n",
      "100%|█████████| 55/55 [00:01<00:00,  1.13s/trial, best loss: 0.0641025641025641]\n",
      " 98%|██████████████████████████████████▍| 55/56 [00:00<?, ?trial/s, best loss=?]"
     ]
    },
    {
     "name": "stderr",
     "output_type": "stream",
     "text": [
      "/Users/drdr/opt/anaconda3/envs/automl_2022/lib/python3.8/site-packages/sklearn/ensemble/_gb.py:310: FutureWarning: The loss parameter name 'deviance' was deprecated in v1.1 and will be removed in version 1.3. Use the new parameter name 'log_loss' which is equivalent.\n",
      "  warnings.warn(\n"
     ]
    },
    {
     "name": "stdout",
     "output_type": "stream",
     "text": [
      "100%|█████████| 56/56 [00:01<00:00,  1.14s/trial, best loss: 0.0641025641025641]\n",
      "100%|█████████| 57/57 [00:01<00:00,  1.54s/trial, best loss: 0.0641025641025641]\n",
      "100%|█████████| 58/58 [00:01<00:00,  1.35s/trial, best loss: 0.0641025641025641]\n",
      "100%|█████████| 59/59 [00:01<00:00,  1.11s/trial, best loss: 0.0641025641025641]\n",
      " 98%|██████████████████████████████████▍| 59/60 [00:00<?, ?trial/s, best loss=?]"
     ]
    },
    {
     "name": "stderr",
     "output_type": "stream",
     "text": [
      "/Users/drdr/opt/anaconda3/envs/automl_2022/lib/python3.8/site-packages/sklearn/ensemble/_gb.py:310: FutureWarning: The loss parameter name 'deviance' was deprecated in v1.1 and will be removed in version 1.3. Use the new parameter name 'log_loss' which is equivalent.\n",
      "  warnings.warn(\n"
     ]
    },
    {
     "name": "stdout",
     "output_type": "stream",
     "text": [
      "100%|█████████| 60/60 [00:01<00:00,  1.46s/trial, best loss: 0.0641025641025641]\n",
      "100%|█████████| 61/61 [00:01<00:00,  1.14s/trial, best loss: 0.0641025641025641]\n",
      "100%|█████████| 62/62 [00:01<00:00,  1.12s/trial, best loss: 0.0641025641025641]\n",
      "100%|█████████| 63/63 [00:01<00:00,  1.13s/trial, best loss: 0.0641025641025641]\n",
      " 98%|██████████████████████████████████▍| 63/64 [00:00<?, ?trial/s, best loss=?]"
     ]
    },
    {
     "name": "stderr",
     "output_type": "stream",
     "text": [
      "/Users/drdr/opt/anaconda3/envs/automl_2022/lib/python3.8/site-packages/sklearn/ensemble/_gb.py:310: FutureWarning: The loss parameter name 'deviance' was deprecated in v1.1 and will be removed in version 1.3. Use the new parameter name 'log_loss' which is equivalent.\n",
      "  warnings.warn(\n"
     ]
    },
    {
     "name": "stdout",
     "output_type": "stream",
     "text": [
      "100%|█████████| 64/64 [00:01<00:00,  1.11s/trial, best loss: 0.0641025641025641]\n",
      "100%|█████████| 65/65 [00:01<00:00,  1.13s/trial, best loss: 0.0641025641025641]\n",
      "100%|█████████| 66/66 [00:01<00:00,  1.12s/trial, best loss: 0.0641025641025641]\n",
      "100%|█████████| 67/67 [00:01<00:00,  1.15s/trial, best loss: 0.0641025641025641]\n",
      "100%|█████████| 68/68 [00:01<00:00,  1.12s/trial, best loss: 0.0641025641025641]\n",
      "100%|█████████| 69/69 [00:01<00:00,  1.19s/trial, best loss: 0.0641025641025641]\n",
      "100%|█████████| 70/70 [00:01<00:00,  1.13s/trial, best loss: 0.0641025641025641]\n",
      "100%|█████████| 71/71 [00:01<00:00,  1.11s/trial, best loss: 0.0641025641025641]\n",
      "100%|█████████| 72/72 [00:01<00:00,  1.11s/trial, best loss: 0.0641025641025641]\n",
      "100%|█████████| 73/73 [00:01<00:00,  1.19s/trial, best loss: 0.0641025641025641]\n",
      "100%|█████████| 74/74 [00:01<00:00,  1.13s/trial, best loss: 0.0641025641025641]\n",
      "100%|█████████| 75/75 [00:01<00:00,  1.16s/trial, best loss: 0.0641025641025641]\n",
      "100%|█████████| 76/76 [00:01<00:00,  1.12s/trial, best loss: 0.0641025641025641]\n",
      "100%|█████████| 77/77 [00:01<00:00,  1.11s/trial, best loss: 0.0641025641025641]\n",
      "100%|█████████| 78/78 [00:01<00:00,  1.12s/trial, best loss: 0.0641025641025641]\n",
      "100%|█████████| 79/79 [00:01<00:00,  1.11s/trial, best loss: 0.0641025641025641]\n",
      "100%|█████████| 80/80 [00:01<00:00,  1.16s/trial, best loss: 0.0641025641025641]\n",
      " 99%|██████████████████████████████████▌| 80/81 [00:00<?, ?trial/s, best loss=?]"
     ]
    },
    {
     "name": "stderr",
     "output_type": "stream",
     "text": [
      "/Users/drdr/opt/anaconda3/envs/automl_2022/lib/python3.8/site-packages/sklearn/ensemble/_gb.py:310: FutureWarning: The loss parameter name 'deviance' was deprecated in v1.1 and will be removed in version 1.3. Use the new parameter name 'log_loss' which is equivalent.\n",
      "  warnings.warn(\n"
     ]
    },
    {
     "name": "stdout",
     "output_type": "stream",
     "text": [
      "100%|█████████| 81/81 [00:01<00:00,  1.28s/trial, best loss: 0.0641025641025641]\n",
      "100%|█████████| 82/82 [00:01<00:00,  1.20s/trial, best loss: 0.0641025641025641]\n",
      "100%|█████████| 83/83 [00:01<00:00,  1.24s/trial, best loss: 0.0641025641025641]\n",
      "100%|█████████| 84/84 [00:01<00:00,  1.24s/trial, best loss: 0.0641025641025641]\n",
      " 99%|██████████████████████████████████▌| 84/85 [00:00<?, ?trial/s, best loss=?]"
     ]
    },
    {
     "name": "stderr",
     "output_type": "stream",
     "text": [
      "/Users/drdr/opt/anaconda3/envs/automl_2022/lib/python3.8/site-packages/sklearn/ensemble/_gb.py:310: FutureWarning: The loss parameter name 'deviance' was deprecated in v1.1 and will be removed in version 1.3. Use the new parameter name 'log_loss' which is equivalent.\n",
      "  warnings.warn(\n"
     ]
    },
    {
     "name": "stdout",
     "output_type": "stream",
     "text": [
      "100%|█████████| 85/85 [00:01<00:00,  1.16s/trial, best loss: 0.0641025641025641]\n",
      "100%|█████████| 86/86 [00:01<00:00,  1.12s/trial, best loss: 0.0641025641025641]\n",
      "100%|█████████| 87/87 [00:01<00:00,  1.13s/trial, best loss: 0.0641025641025641]\n",
      "100%|█████████| 88/88 [00:01<00:00,  1.12s/trial, best loss: 0.0641025641025641]\n",
      "100%|█████████| 89/89 [00:01<00:00,  1.12s/trial, best loss: 0.0641025641025641]\n",
      " 99%|██████████████████████████████████▌| 89/90 [00:00<?, ?trial/s, best loss=?]"
     ]
    },
    {
     "name": "stderr",
     "output_type": "stream",
     "text": [
      "/Users/drdr/opt/anaconda3/envs/automl_2022/lib/python3.8/site-packages/sklearn/ensemble/_gb.py:310: FutureWarning: The loss parameter name 'deviance' was deprecated in v1.1 and will be removed in version 1.3. Use the new parameter name 'log_loss' which is equivalent.\n",
      "  warnings.warn(\n"
     ]
    },
    {
     "name": "stdout",
     "output_type": "stream",
     "text": [
      "100%|█████████| 90/90 [00:01<00:00,  1.18s/trial, best loss: 0.0641025641025641]\n",
      "100%|█████████| 91/91 [00:01<00:00,  1.16s/trial, best loss: 0.0641025641025641]\n",
      "100%|█████████| 92/92 [00:01<00:00,  1.24s/trial, best loss: 0.0641025641025641]\n",
      "100%|█████████| 93/93 [00:01<00:00,  1.24s/trial, best loss: 0.0641025641025641]\n",
      " 99%|██████████████████████████████████▋| 93/94 [00:00<?, ?trial/s, best loss=?]"
     ]
    },
    {
     "name": "stderr",
     "output_type": "stream",
     "text": [
      "/Users/drdr/opt/anaconda3/envs/automl_2022/lib/python3.8/site-packages/sklearn/ensemble/_gb.py:310: FutureWarning: The loss parameter name 'deviance' was deprecated in v1.1 and will be removed in version 1.3. Use the new parameter name 'log_loss' which is equivalent.\n",
      "  warnings.warn(\n"
     ]
    },
    {
     "name": "stdout",
     "output_type": "stream",
     "text": [
      "100%|█████████| 94/94 [00:01<00:00,  1.13s/trial, best loss: 0.0641025641025641]\n",
      "100%|█████████| 95/95 [00:01<00:00,  1.12s/trial, best loss: 0.0641025641025641]\n",
      "100%|█████████| 96/96 [00:01<00:00,  1.12s/trial, best loss: 0.0641025641025641]\n",
      "100%|█████████| 97/97 [00:01<00:00,  1.15s/trial, best loss: 0.0641025641025641]\n",
      "100%|█████████| 98/98 [00:01<00:00,  1.13s/trial, best loss: 0.0641025641025641]\n",
      " 99%|██████████████████████████████████▋| 98/99 [00:00<?, ?trial/s, best loss=?]"
     ]
    },
    {
     "name": "stderr",
     "output_type": "stream",
     "text": [
      "/Users/drdr/opt/anaconda3/envs/automl_2022/lib/python3.8/site-packages/sklearn/ensemble/_gb.py:310: FutureWarning: The loss parameter name 'deviance' was deprecated in v1.1 and will be removed in version 1.3. Use the new parameter name 'log_loss' which is equivalent.\n",
      "  warnings.warn(\n"
     ]
    },
    {
     "name": "stdout",
     "output_type": "stream",
     "text": [
      "100%|█████████| 99/99 [00:01<00:00,  1.12s/trial, best loss: 0.0641025641025641]\n",
      " 99%|█████████████████████████████████▋| 99/100 [00:00<?, ?trial/s, best loss=?]"
     ]
    },
    {
     "name": "stderr",
     "output_type": "stream",
     "text": [
      "/Users/drdr/opt/anaconda3/envs/automl_2022/lib/python3.8/site-packages/sklearn/ensemble/_gb.py:310: FutureWarning: The loss parameter name 'deviance' was deprecated in v1.1 and will be removed in version 1.3. Use the new parameter name 'log_loss' which is equivalent.\n",
      "  warnings.warn(\n"
     ]
    },
    {
     "name": "stdout",
     "output_type": "stream",
     "text": [
      "100%|███████| 100/100 [00:01<00:00,  1.13s/trial, best loss: 0.0641025641025641]\n",
      "\n",
      "Using the *LDA* for estimation.\n",
      "  0%|                                     | 0/1 [00:00<?, ?trial/s, best loss=?]"
     ]
    },
    {
     "name": "stderr",
     "output_type": "stream",
     "text": [
      "job exception: The leading minor of order 14 of B is not positive definite. The factorization of B could not be completed and no eigenvalues or eigenvectors were computed.\n",
      "\n"
     ]
    },
    {
     "name": "stdout",
     "output_type": "stream",
     "text": [
      "  0%|                                     | 0/1 [00:01<?, ?trial/s, best loss=?]\n",
      "Model with params not computed\n",
      "\n",
      "Using the *Random Forest* for estimation.\n",
      "100%|██████████| 1/1 [00:01<00:00,  1.36s/trial, best loss: 0.14102564102564108]\n",
      "100%|██████████| 2/2 [00:02<00:00,  2.50s/trial, best loss: 0.14102564102564108]\n",
      "100%|██████████| 3/3 [00:01<00:00,  1.25s/trial, best loss: 0.14102564102564108]\n",
      "100%|██████████| 4/4 [00:01<00:00,  1.27s/trial, best loss: 0.14102564102564108]\n",
      "100%|██████████| 5/5 [00:01<00:00,  1.10s/trial, best loss: 0.14102564102564108]\n",
      "100%|███████████| 6/6 [00:01<00:00,  1.16s/trial, best loss: 0.1282051282051282]\n",
      "100%|██████████| 7/7 [00:01<00:00,  1.46s/trial, best loss: 0.10256410256410253]\n",
      "100%|██████████| 8/8 [00:01<00:00,  1.22s/trial, best loss: 0.10256410256410253]\n",
      "100%|██████████| 9/9 [00:01<00:00,  1.10s/trial, best loss: 0.10256410256410253]\n",
      "100%|████████| 10/10 [00:01<00:00,  1.22s/trial, best loss: 0.10256410256410253]\n",
      "100%|████████| 11/11 [00:01<00:00,  1.17s/trial, best loss: 0.10256410256410253]\n",
      "100%|████████| 12/12 [00:01<00:00,  1.10s/trial, best loss: 0.10256410256410253]\n",
      "100%|████████| 13/13 [00:01<00:00,  1.14s/trial, best loss: 0.10256410256410253]\n",
      "100%|████████| 14/14 [00:01<00:00,  1.10s/trial, best loss: 0.10256410256410253]\n",
      "100%|████████| 15/15 [00:01<00:00,  1.17s/trial, best loss: 0.10256410256410253]\n",
      "100%|████████| 16/16 [00:01<00:00,  1.39s/trial, best loss: 0.10256410256410253]\n",
      "100%|████████| 17/17 [00:01<00:00,  1.49s/trial, best loss: 0.10256410256410253]\n",
      "100%|████████| 18/18 [00:01<00:00,  1.46s/trial, best loss: 0.10256410256410253]\n",
      "100%|████████| 19/19 [00:01<00:00,  1.18s/trial, best loss: 0.10256410256410253]\n",
      "100%|████████| 20/20 [00:01<00:00,  1.14s/trial, best loss: 0.10256410256410253]\n",
      "100%|████████| 21/21 [00:03<00:00,  3.70s/trial, best loss: 0.10256410256410253]\n",
      "100%|████████| 22/22 [00:01<00:00,  1.90s/trial, best loss: 0.10256410256410253]\n",
      "100%|████████| 23/23 [00:01<00:00,  1.15s/trial, best loss: 0.10256410256410253]\n",
      "100%|████████| 24/24 [00:01<00:00,  1.16s/trial, best loss: 0.10256410256410253]\n",
      "100%|████████| 25/25 [00:01<00:00,  1.83s/trial, best loss: 0.10256410256410253]\n",
      "100%|████████| 26/26 [00:02<00:00,  2.61s/trial, best loss: 0.10256410256410253]\n",
      "100%|████████| 27/27 [00:01<00:00,  1.21s/trial, best loss: 0.10256410256410253]\n",
      "100%|████████| 28/28 [00:01<00:00,  1.24s/trial, best loss: 0.10256410256410253]\n",
      "100%|████████| 29/29 [00:01<00:00,  1.38s/trial, best loss: 0.10256410256410253]\n",
      "100%|████████| 30/30 [00:01<00:00,  1.73s/trial, best loss: 0.10256410256410253]\n",
      "100%|████████| 31/31 [00:05<00:00,  5.77s/trial, best loss: 0.10256410256410253]\n",
      "100%|████████| 32/32 [00:06<00:00,  6.02s/trial, best loss: 0.10256410256410253]\n",
      "100%|████████| 33/33 [00:04<00:00,  4.45s/trial, best loss: 0.10256410256410253]\n",
      "100%|████████| 34/34 [00:02<00:00,  2.37s/trial, best loss: 0.10256410256410253]\n",
      "100%|████████| 35/35 [00:01<00:00,  1.13s/trial, best loss: 0.08974358974358976]\n",
      "100%|████████| 36/36 [00:01<00:00,  1.14s/trial, best loss: 0.08974358974358976]\n",
      "100%|████████| 37/37 [00:01<00:00,  1.13s/trial, best loss: 0.08974358974358976]\n",
      "100%|████████| 38/38 [00:02<00:00,  2.17s/trial, best loss: 0.08974358974358976]\n",
      "100%|████████| 39/39 [00:01<00:00,  1.20s/trial, best loss: 0.08974358974358976]\n",
      "100%|████████| 40/40 [00:01<00:00,  1.13s/trial, best loss: 0.08974358974358976]\n",
      "100%|████████| 41/41 [00:01<00:00,  1.14s/trial, best loss: 0.08974358974358976]\n",
      "100%|████████| 42/42 [00:01<00:00,  1.17s/trial, best loss: 0.08974358974358976]\n",
      "100%|████████| 43/43 [00:01<00:00,  1.10s/trial, best loss: 0.08974358974358976]\n",
      "100%|████████| 44/44 [00:01<00:00,  1.13s/trial, best loss: 0.08974358974358976]\n",
      "100%|████████| 45/45 [00:01<00:00,  1.14s/trial, best loss: 0.08974358974358976]\n",
      "100%|████████| 46/46 [00:01<00:00,  1.21s/trial, best loss: 0.08974358974358976]\n",
      "100%|████████| 47/47 [00:01<00:00,  1.26s/trial, best loss: 0.08974358974358976]\n",
      "100%|████████| 48/48 [00:01<00:00,  1.15s/trial, best loss: 0.08974358974358976]\n",
      "100%|████████| 49/49 [00:02<00:00,  2.22s/trial, best loss: 0.08974358974358976]\n",
      "100%|████████| 50/50 [00:01<00:00,  1.13s/trial, best loss: 0.08974358974358976]\n",
      "100%|████████| 51/51 [00:01<00:00,  1.13s/trial, best loss: 0.08974358974358976]\n",
      "100%|████████| 52/52 [00:01<00:00,  1.11s/trial, best loss: 0.08974358974358976]\n",
      "100%|████████| 53/53 [00:01<00:00,  1.14s/trial, best loss: 0.08974358974358976]\n",
      "100%|████████| 54/54 [00:01<00:00,  1.14s/trial, best loss: 0.08974358974358976]\n",
      "100%|████████| 55/55 [00:01<00:00,  1.11s/trial, best loss: 0.08974358974358976]\n",
      "100%|████████| 56/56 [00:01<00:00,  1.12s/trial, best loss: 0.08974358974358976]\n",
      "100%|████████| 57/57 [00:01<00:00,  1.14s/trial, best loss: 0.08974358974358976]\n",
      "100%|████████| 58/58 [00:01<00:00,  1.18s/trial, best loss: 0.08974358974358976]\n",
      "100%|████████| 59/59 [00:01<00:00,  1.18s/trial, best loss: 0.08974358974358976]\n",
      "100%|████████| 60/60 [00:01<00:00,  1.12s/trial, best loss: 0.08974358974358976]\n",
      "100%|████████| 61/61 [00:01<00:00,  1.36s/trial, best loss: 0.08974358974358976]\n",
      "100%|████████| 62/62 [00:01<00:00,  1.12s/trial, best loss: 0.08974358974358976]\n",
      "100%|████████| 63/63 [00:01<00:00,  1.13s/trial, best loss: 0.08974358974358976]\n",
      "100%|████████| 64/64 [00:01<00:00,  1.38s/trial, best loss: 0.08974358974358976]\n",
      "100%|████████| 65/65 [00:01<00:00,  1.16s/trial, best loss: 0.08974358974358976]\n",
      "100%|████████| 66/66 [00:01<00:00,  1.51s/trial, best loss: 0.08974358974358976]\n",
      "100%|████████| 67/67 [00:01<00:00,  1.45s/trial, best loss: 0.08974358974358976]\n",
      "100%|████████| 68/68 [00:03<00:00,  3.01s/trial, best loss: 0.08974358974358976]\n",
      "100%|████████| 69/69 [00:02<00:00,  2.19s/trial, best loss: 0.08974358974358976]\n",
      "100%|████████| 70/70 [00:01<00:00,  1.14s/trial, best loss: 0.08974358974358976]\n",
      "100%|████████| 71/71 [00:01<00:00,  1.31s/trial, best loss: 0.08974358974358976]\n",
      "100%|████████| 72/72 [00:01<00:00,  1.16s/trial, best loss: 0.08974358974358976]\n",
      "100%|████████| 73/73 [00:01<00:00,  1.21s/trial, best loss: 0.08974358974358976]\n",
      "100%|████████| 74/74 [00:01<00:00,  1.14s/trial, best loss: 0.08974358974358976]\n",
      "100%|████████| 75/75 [00:01<00:00,  1.18s/trial, best loss: 0.08974358974358976]\n",
      "100%|████████| 76/76 [00:01<00:00,  1.13s/trial, best loss: 0.08974358974358976]\n",
      "100%|████████| 77/77 [00:01<00:00,  1.12s/trial, best loss: 0.08974358974358976]\n",
      "100%|████████| 78/78 [00:01<00:00,  1.28s/trial, best loss: 0.08974358974358976]\n",
      "100%|████████| 79/79 [00:01<00:00,  1.25s/trial, best loss: 0.08974358974358976]\n",
      "100%|████████| 80/80 [00:01<00:00,  1.23s/trial, best loss: 0.08974358974358976]\n",
      "100%|████████| 81/81 [00:01<00:00,  1.35s/trial, best loss: 0.08974358974358976]\n",
      "100%|████████| 82/82 [00:01<00:00,  1.14s/trial, best loss: 0.08974358974358976]\n",
      "100%|████████| 83/83 [00:01<00:00,  1.22s/trial, best loss: 0.08974358974358976]\n",
      "100%|████████| 84/84 [00:01<00:00,  1.25s/trial, best loss: 0.08974358974358976]\n",
      "100%|████████| 85/85 [00:01<00:00,  1.18s/trial, best loss: 0.08974358974358976]\n",
      "100%|████████| 86/86 [00:01<00:00,  1.17s/trial, best loss: 0.08974358974358976]\n",
      "100%|████████| 87/87 [00:01<00:00,  1.14s/trial, best loss: 0.08974358974358976]\n",
      "100%|████████| 88/88 [00:01<00:00,  1.16s/trial, best loss: 0.08974358974358976]\n",
      "100%|████████| 89/89 [00:01<00:00,  1.20s/trial, best loss: 0.08974358974358976]\n",
      "100%|████████| 90/90 [00:01<00:00,  1.26s/trial, best loss: 0.08974358974358976]\n",
      "100%|████████| 91/91 [00:01<00:00,  1.22s/trial, best loss: 0.08974358974358976]\n",
      "100%|████████| 92/92 [00:01<00:00,  1.22s/trial, best loss: 0.08974358974358976]\n",
      "100%|████████| 93/93 [00:01<00:00,  1.12s/trial, best loss: 0.08974358974358976]\n",
      "100%|████████| 94/94 [00:01<00:00,  1.42s/trial, best loss: 0.08974358974358976]\n",
      "100%|████████| 95/95 [00:01<00:00,  1.13s/trial, best loss: 0.08974358974358976]\n",
      "100%|████████| 96/96 [00:01<00:00,  1.35s/trial, best loss: 0.08974358974358976]\n",
      "100%|████████| 97/97 [00:01<00:00,  1.13s/trial, best loss: 0.08974358974358976]\n",
      "100%|████████| 98/98 [00:01<00:00,  1.16s/trial, best loss: 0.08974358974358976]\n",
      "100%|████████| 99/99 [00:01<00:00,  1.14s/trial, best loss: 0.08974358974358976]\n",
      "100%|██████| 100/100 [00:01<00:00,  1.15s/trial, best loss: 0.08974358974358976]\n",
      "\n",
      "Using the *AdaBoost* for estimation.\n",
      "100%|██████████| 1/1 [00:01<00:00,  1.09s/trial, best loss: 0.10256410256410253]\n",
      "100%|██████████| 2/2 [00:01<00:00,  1.64s/trial, best loss: 0.10256410256410253]\n",
      "100%|██████████| 3/3 [00:01<00:00,  1.73s/trial, best loss: 0.10256410256410253]\n",
      "100%|██████████| 4/4 [00:01<00:00,  1.79s/trial, best loss: 0.10256410256410253]\n",
      "100%|██████████| 5/5 [00:01<00:00,  1.35s/trial, best loss: 0.10256410256410253]\n",
      "100%|██████████| 6/6 [00:01<00:00,  1.95s/trial, best loss: 0.10256410256410253]\n",
      "100%|██████████| 7/7 [00:01<00:00,  1.50s/trial, best loss: 0.10256410256410253]\n",
      "100%|██████████| 8/8 [00:01<00:00,  1.25s/trial, best loss: 0.10256410256410253]\n",
      "100%|██████████| 9/9 [00:01<00:00,  1.09s/trial, best loss: 0.10256410256410253]\n",
      "100%|████████| 10/10 [00:01<00:00,  1.10s/trial, best loss: 0.10256410256410253]\n",
      "100%|████████| 11/11 [00:01<00:00,  1.24s/trial, best loss: 0.10256410256410253]\n",
      "100%|████████| 12/12 [00:01<00:00,  1.18s/trial, best loss: 0.08974358974358976]\n",
      "100%|████████| 13/13 [00:01<00:00,  1.39s/trial, best loss: 0.08974358974358976]\n",
      "100%|████████| 14/14 [00:01<00:00,  1.10s/trial, best loss: 0.08974358974358976]\n",
      "100%|████████| 15/15 [00:01<00:00,  1.24s/trial, best loss: 0.08974358974358976]\n",
      "100%|████████| 16/16 [00:01<00:00,  1.11s/trial, best loss: 0.08974358974358976]\n",
      "100%|████████| 17/17 [00:01<00:00,  1.10s/trial, best loss: 0.08974358974358976]\n",
      "100%|████████| 18/18 [00:01<00:00,  1.10s/trial, best loss: 0.08974358974358976]\n",
      "100%|████████| 19/19 [00:01<00:00,  1.10s/trial, best loss: 0.08974358974358976]\n",
      "100%|████████| 20/20 [00:01<00:00,  1.74s/trial, best loss: 0.08974358974358976]\n",
      "100%|████████| 21/21 [00:01<00:00,  1.16s/trial, best loss: 0.08974358974358976]\n",
      "100%|████████| 22/22 [00:01<00:00,  1.16s/trial, best loss: 0.08974358974358976]\n",
      "100%|████████| 23/23 [00:01<00:00,  1.14s/trial, best loss: 0.08974358974358976]\n",
      "100%|████████| 24/24 [00:01<00:00,  1.19s/trial, best loss: 0.08974358974358976]\n",
      "100%|████████| 25/25 [00:01<00:00,  1.20s/trial, best loss: 0.08974358974358976]\n",
      "100%|████████| 26/26 [00:01<00:00,  1.14s/trial, best loss: 0.08974358974358976]\n",
      "100%|████████| 27/27 [00:01<00:00,  1.20s/trial, best loss: 0.08974358974358976]\n",
      "100%|████████| 28/28 [00:01<00:00,  1.26s/trial, best loss: 0.08974358974358976]\n",
      "100%|████████| 29/29 [00:01<00:00,  1.11s/trial, best loss: 0.08974358974358976]\n",
      "100%|████████| 30/30 [00:01<00:00,  1.18s/trial, best loss: 0.08974358974358976]\n",
      "100%|████████| 31/31 [00:01<00:00,  1.39s/trial, best loss: 0.08974358974358976]\n",
      "100%|████████| 32/32 [00:01<00:00,  1.09s/trial, best loss: 0.08974358974358976]\n",
      "100%|████████| 33/33 [00:01<00:00,  1.28s/trial, best loss: 0.08974358974358976]\n",
      "100%|████████| 34/34 [00:01<00:00,  1.19s/trial, best loss: 0.08974358974358976]\n",
      "100%|████████| 35/35 [00:01<00:00,  1.14s/trial, best loss: 0.08974358974358976]\n",
      "100%|████████| 36/36 [00:01<00:00,  1.19s/trial, best loss: 0.08974358974358976]\n",
      "100%|████████| 37/37 [00:01<00:00,  1.13s/trial, best loss: 0.08974358974358976]\n",
      "100%|████████| 38/38 [00:01<00:00,  1.39s/trial, best loss: 0.08974358974358976]\n",
      "100%|████████| 39/39 [00:01<00:00,  1.75s/trial, best loss: 0.08974358974358976]\n",
      "100%|████████| 40/40 [00:01<00:00,  1.11s/trial, best loss: 0.08974358974358976]\n",
      "100%|████████| 41/41 [00:01<00:00,  1.13s/trial, best loss: 0.08974358974358976]\n",
      "100%|████████| 42/42 [00:01<00:00,  1.39s/trial, best loss: 0.08974358974358976]\n",
      "100%|████████| 43/43 [00:01<00:00,  1.38s/trial, best loss: 0.08974358974358976]\n",
      "100%|████████| 44/44 [00:01<00:00,  1.10s/trial, best loss: 0.08974358974358976]\n",
      "100%|████████| 45/45 [00:01<00:00,  1.19s/trial, best loss: 0.08974358974358976]\n",
      "100%|████████| 46/46 [00:01<00:00,  1.13s/trial, best loss: 0.08974358974358976]\n",
      "100%|████████| 47/47 [00:01<00:00,  1.18s/trial, best loss: 0.08974358974358976]\n",
      "100%|████████| 48/48 [00:01<00:00,  1.44s/trial, best loss: 0.08974358974358976]\n",
      "100%|████████| 49/49 [00:01<00:00,  1.30s/trial, best loss: 0.08974358974358976]\n",
      "100%|████████| 50/50 [00:01<00:00,  1.15s/trial, best loss: 0.08974358974358976]\n",
      "100%|████████| 51/51 [00:01<00:00,  1.34s/trial, best loss: 0.08974358974358976]\n",
      "100%|████████| 52/52 [00:01<00:00,  1.18s/trial, best loss: 0.08974358974358976]\n",
      "100%|████████| 53/53 [00:01<00:00,  1.26s/trial, best loss: 0.08974358974358976]\n",
      "100%|████████| 54/54 [00:01<00:00,  1.18s/trial, best loss: 0.08974358974358976]\n",
      "100%|████████| 55/55 [00:01<00:00,  1.49s/trial, best loss: 0.08974358974358976]\n",
      "100%|████████| 56/56 [00:01<00:00,  1.11s/trial, best loss: 0.08974358974358976]\n",
      "100%|████████| 57/57 [00:01<00:00,  1.36s/trial, best loss: 0.08974358974358976]\n",
      "100%|████████| 58/58 [00:01<00:00,  1.12s/trial, best loss: 0.08974358974358976]\n",
      "100%|████████| 59/59 [00:01<00:00,  1.12s/trial, best loss: 0.08974358974358976]\n",
      "100%|████████| 60/60 [00:01<00:00,  1.82s/trial, best loss: 0.08974358974358976]\n",
      "100%|████████| 61/61 [00:01<00:00,  1.79s/trial, best loss: 0.08974358974358976]\n",
      "100%|████████| 62/62 [00:01<00:00,  1.92s/trial, best loss: 0.08974358974358976]\n",
      "100%|████████| 63/63 [00:01<00:00,  1.43s/trial, best loss: 0.08974358974358976]\n",
      "100%|████████| 64/64 [00:01<00:00,  1.29s/trial, best loss: 0.08974358974358976]\n",
      "100%|████████| 65/65 [00:01<00:00,  1.14s/trial, best loss: 0.08974358974358976]\n",
      "100%|████████| 66/66 [00:01<00:00,  1.15s/trial, best loss: 0.08974358974358976]\n",
      "100%|████████| 67/67 [00:01<00:00,  1.13s/trial, best loss: 0.08974358974358976]\n",
      "100%|████████| 68/68 [00:01<00:00,  1.23s/trial, best loss: 0.08974358974358976]\n",
      "100%|████████| 69/69 [00:01<00:00,  1.21s/trial, best loss: 0.08974358974358976]\n",
      "100%|████████| 70/70 [00:01<00:00,  1.60s/trial, best loss: 0.08974358974358976]\n",
      "100%|████████| 71/71 [00:01<00:00,  1.26s/trial, best loss: 0.08974358974358976]\n",
      "100%|████████| 72/72 [00:01<00:00,  1.14s/trial, best loss: 0.08974358974358976]\n",
      "100%|████████| 73/73 [00:01<00:00,  1.27s/trial, best loss: 0.08974358974358976]\n",
      "100%|████████| 74/74 [00:01<00:00,  1.19s/trial, best loss: 0.08974358974358976]\n",
      "100%|████████| 75/75 [00:01<00:00,  1.24s/trial, best loss: 0.08974358974358976]\n",
      "100%|████████| 76/76 [00:01<00:00,  1.42s/trial, best loss: 0.08974358974358976]\n",
      "100%|████████| 77/77 [00:01<00:00,  1.12s/trial, best loss: 0.08974358974358976]\n",
      "100%|████████| 78/78 [00:01<00:00,  1.12s/trial, best loss: 0.08974358974358976]\n",
      "100%|████████| 79/79 [00:01<00:00,  1.15s/trial, best loss: 0.08974358974358976]\n",
      "100%|████████| 80/80 [00:01<00:00,  1.17s/trial, best loss: 0.08974358974358976]\n",
      "100%|████████| 81/81 [00:01<00:00,  1.13s/trial, best loss: 0.08974358974358976]\n",
      "100%|████████| 82/82 [00:01<00:00,  1.13s/trial, best loss: 0.08974358974358976]\n",
      "100%|████████| 83/83 [00:01<00:00,  1.14s/trial, best loss: 0.07692307692307687]\n",
      "100%|████████| 84/84 [00:01<00:00,  1.12s/trial, best loss: 0.07692307692307687]\n",
      "100%|████████| 85/85 [00:01<00:00,  1.17s/trial, best loss: 0.07692307692307687]\n",
      "100%|████████| 86/86 [00:01<00:00,  1.11s/trial, best loss: 0.07692307692307687]\n",
      " 99%|██████████████████████████████████▌| 86/87 [00:00<?, ?trial/s, best loss=?]"
     ]
    },
    {
     "name": "stderr",
     "output_type": "stream",
     "text": [
      "/Users/drdr/opt/anaconda3/envs/automl_2022/lib/python3.8/site-packages/sklearn/ensemble/_weight_boosting.py:675: RuntimeWarning: overflow encountered in exp\n",
      "  sample_weight = np.exp(\n",
      "/Users/drdr/opt/anaconda3/envs/automl_2022/lib/python3.8/site-packages/sklearn/ensemble/_weight_boosting.py:506: UserWarning: Sample weights have reached infinite values, at iteration 1, causing overflow. Iterations stopped. Try lowering the learning rate.\n",
      "  return super().fit(X, y, sample_weight)\n"
     ]
    },
    {
     "name": "stdout",
     "output_type": "stream",
     "text": [
      "100%|████████| 87/87 [00:01<00:00,  1.21s/trial, best loss: 0.07692307692307687]\n",
      "100%|████████| 88/88 [00:01<00:00,  1.17s/trial, best loss: 0.07692307692307687]\n",
      "100%|████████| 89/89 [00:01<00:00,  1.10s/trial, best loss: 0.07692307692307687]\n",
      " 99%|██████████████████████████████████▌| 89/90 [00:00<?, ?trial/s, best loss=?]"
     ]
    },
    {
     "name": "stderr",
     "output_type": "stream",
     "text": [
      "/Users/drdr/opt/anaconda3/envs/automl_2022/lib/python3.8/site-packages/sklearn/ensemble/_weight_boosting.py:676: RuntimeWarning: divide by zero encountered in log\n",
      "  np.log(sample_weight)\n",
      "/Users/drdr/opt/anaconda3/envs/automl_2022/lib/python3.8/site-packages/sklearn/ensemble/_weight_boosting.py:675: RuntimeWarning: overflow encountered in exp\n",
      "  sample_weight = np.exp(\n",
      "/Users/drdr/opt/anaconda3/envs/automl_2022/lib/python3.8/site-packages/sklearn/ensemble/_weight_boosting.py:506: UserWarning: Sample weights have reached infinite values, at iteration 8, causing overflow. Iterations stopped. Try lowering the learning rate.\n",
      "  return super().fit(X, y, sample_weight)\n"
     ]
    },
    {
     "name": "stdout",
     "output_type": "stream",
     "text": [
      "100%|████████| 90/90 [00:01<00:00,  1.10s/trial, best loss: 0.07692307692307687]\n",
      " 99%|██████████████████████████████████▌| 90/91 [00:00<?, ?trial/s, best loss=?]"
     ]
    },
    {
     "name": "stderr",
     "output_type": "stream",
     "text": [
      "/Users/drdr/opt/anaconda3/envs/automl_2022/lib/python3.8/site-packages/sklearn/ensemble/_weight_boosting.py:675: RuntimeWarning: overflow encountered in exp\n",
      "  sample_weight = np.exp(\n",
      "/Users/drdr/opt/anaconda3/envs/automl_2022/lib/python3.8/site-packages/sklearn/ensemble/_weight_boosting.py:506: UserWarning: Sample weights have reached infinite values, at iteration 2, causing overflow. Iterations stopped. Try lowering the learning rate.\n",
      "  return super().fit(X, y, sample_weight)\n"
     ]
    },
    {
     "name": "stdout",
     "output_type": "stream",
     "text": [
      "100%|████████| 91/91 [00:01<00:00,  1.20s/trial, best loss: 0.07692307692307687]\n",
      "100%|████████| 92/92 [00:01<00:00,  1.12s/trial, best loss: 0.07692307692307687]\n",
      "100%|████████| 93/93 [00:01<00:00,  1.11s/trial, best loss: 0.07692307692307687]\n",
      "100%|████████| 94/94 [00:01<00:00,  1.14s/trial, best loss: 0.07692307692307687]\n",
      "100%|████████| 95/95 [00:01<00:00,  1.15s/trial, best loss: 0.07692307692307687]\n",
      "100%|████████| 96/96 [00:01<00:00,  1.12s/trial, best loss: 0.07692307692307687]\n",
      "100%|████████| 97/97 [00:01<00:00,  1.13s/trial, best loss: 0.07692307692307687]\n",
      "100%|████████| 98/98 [00:01<00:00,  1.12s/trial, best loss: 0.07692307692307687]\n",
      "100%|████████| 99/99 [00:01<00:00,  1.11s/trial, best loss: 0.07692307692307687]\n",
      "100%|██████| 100/100 [00:01<00:00,  1.12s/trial, best loss: 0.07692307692307687]\n",
      "\n",
      "Using the *Logistic Regression* for estimation.\n",
      "100%|██████████| 1/1 [00:01<00:00,  1.09s/trial, best loss: 0.15384615384615385]\n",
      "100%|██████████| 2/2 [00:01<00:00,  1.08s/trial, best loss: 0.15384615384615385]\n",
      "100%|███████████| 3/3 [00:01<00:00,  1.09s/trial, best loss: 0.1282051282051282]\n",
      "100%|███████████| 4/4 [00:01<00:00,  1.09s/trial, best loss: 0.1282051282051282]\n",
      "100%|███████████| 5/5 [00:01<00:00,  1.08s/trial, best loss: 0.1282051282051282]\n",
      "100%|███████████| 6/6 [00:01<00:00,  1.08s/trial, best loss: 0.1282051282051282]\n",
      "100%|███████████| 7/7 [00:01<00:00,  1.09s/trial, best loss: 0.1282051282051282]\n",
      "100%|██████████| 8/8 [00:01<00:00,  1.09s/trial, best loss: 0.11538461538461542]\n",
      "100%|██████████| 9/9 [00:01<00:00,  1.08s/trial, best loss: 0.11538461538461542]\n",
      "100%|████████| 10/10 [00:01<00:00,  1.07s/trial, best loss: 0.11538461538461542]\n",
      "100%|████████| 11/11 [00:01<00:00,  1.07s/trial, best loss: 0.11538461538461542]\n",
      "100%|████████| 12/12 [00:01<00:00,  1.08s/trial, best loss: 0.11538461538461542]\n",
      "100%|████████| 13/13 [00:01<00:00,  1.10s/trial, best loss: 0.11538461538461542]\n",
      "100%|████████| 14/14 [00:01<00:00,  1.08s/trial, best loss: 0.11538461538461542]\n",
      "100%|████████| 15/15 [00:01<00:00,  1.08s/trial, best loss: 0.11538461538461542]\n",
      "100%|████████| 16/16 [00:01<00:00,  1.08s/trial, best loss: 0.07692307692307687]\n",
      "100%|████████| 17/17 [00:01<00:00,  1.08s/trial, best loss: 0.07692307692307687]\n",
      "100%|████████| 18/18 [00:01<00:00,  1.12s/trial, best loss: 0.07692307692307687]\n",
      "100%|████████| 19/19 [00:01<00:00,  1.09s/trial, best loss: 0.07692307692307687]\n",
      "100%|████████| 20/20 [00:01<00:00,  1.16s/trial, best loss: 0.07692307692307687]\n",
      "100%|████████| 21/21 [00:01<00:00,  1.10s/trial, best loss: 0.07692307692307687]\n",
      "100%|████████| 22/22 [00:01<00:00,  1.09s/trial, best loss: 0.07692307692307687]\n",
      "100%|████████| 23/23 [00:01<00:00,  1.09s/trial, best loss: 0.07692307692307687]\n",
      "100%|████████| 24/24 [00:01<00:00,  1.10s/trial, best loss: 0.07692307692307687]\n",
      "100%|████████| 25/25 [00:01<00:00,  1.10s/trial, best loss: 0.07692307692307687]\n",
      "100%|████████| 26/26 [00:01<00:00,  1.09s/trial, best loss: 0.07692307692307687]\n",
      "100%|████████| 27/27 [00:01<00:00,  1.10s/trial, best loss: 0.07692307692307687]\n",
      "100%|████████| 28/28 [00:01<00:00,  1.10s/trial, best loss: 0.07692307692307687]\n",
      "100%|████████| 29/29 [00:01<00:00,  1.10s/trial, best loss: 0.07692307692307687]\n",
      "100%|████████| 30/30 [00:01<00:00,  1.10s/trial, best loss: 0.07692307692307687]\n",
      "100%|████████| 31/31 [00:01<00:00,  1.11s/trial, best loss: 0.07692307692307687]\n",
      "100%|████████| 32/32 [00:01<00:00,  1.10s/trial, best loss: 0.07692307692307687]\n",
      "100%|████████| 33/33 [00:01<00:00,  1.09s/trial, best loss: 0.07692307692307687]\n",
      "100%|████████| 34/34 [00:01<00:00,  1.10s/trial, best loss: 0.07692307692307687]\n",
      "100%|████████| 35/35 [00:01<00:00,  1.10s/trial, best loss: 0.07692307692307687]\n",
      "100%|████████| 36/36 [00:01<00:00,  1.10s/trial, best loss: 0.07692307692307687]\n",
      "100%|████████| 37/37 [00:01<00:00,  1.08s/trial, best loss: 0.07692307692307687]\n",
      "100%|████████| 38/38 [00:01<00:00,  1.11s/trial, best loss: 0.07692307692307687]\n",
      "100%|████████| 39/39 [00:01<00:00,  1.10s/trial, best loss: 0.07692307692307687]\n",
      "100%|████████| 40/40 [00:01<00:00,  1.09s/trial, best loss: 0.07692307692307687]\n",
      "100%|████████| 41/41 [00:01<00:00,  1.10s/trial, best loss: 0.07692307692307687]\n",
      "100%|████████| 42/42 [00:01<00:00,  1.09s/trial, best loss: 0.07692307692307687]\n",
      "100%|████████| 43/43 [00:01<00:00,  1.10s/trial, best loss: 0.07692307692307687]\n",
      "100%|████████| 44/44 [00:01<00:00,  1.11s/trial, best loss: 0.07692307692307687]\n",
      "100%|████████| 45/45 [00:01<00:00,  1.10s/trial, best loss: 0.07692307692307687]\n",
      "100%|████████| 46/46 [00:01<00:00,  1.11s/trial, best loss: 0.07692307692307687]\n",
      "100%|████████| 47/47 [00:01<00:00,  1.15s/trial, best loss: 0.07692307692307687]\n",
      "100%|████████| 48/48 [00:01<00:00,  1.11s/trial, best loss: 0.07692307692307687]\n",
      "100%|████████| 49/49 [00:01<00:00,  1.10s/trial, best loss: 0.07692307692307687]\n",
      "100%|████████| 50/50 [00:01<00:00,  1.10s/trial, best loss: 0.07692307692307687]\n",
      "100%|████████| 51/51 [00:01<00:00,  1.09s/trial, best loss: 0.07692307692307687]\n",
      "100%|████████| 52/52 [00:01<00:00,  1.09s/trial, best loss: 0.07692307692307687]\n",
      "100%|████████| 53/53 [00:01<00:00,  1.10s/trial, best loss: 0.07692307692307687]\n",
      "100%|████████| 54/54 [00:01<00:00,  1.10s/trial, best loss: 0.07692307692307687]\n",
      "100%|████████| 55/55 [00:01<00:00,  1.12s/trial, best loss: 0.07692307692307687]\n",
      "100%|████████| 56/56 [00:01<00:00,  1.11s/trial, best loss: 0.07692307692307687]\n",
      "100%|████████| 57/57 [00:01<00:00,  1.10s/trial, best loss: 0.07692307692307687]\n",
      "100%|████████| 58/58 [00:01<00:00,  1.11s/trial, best loss: 0.07692307692307687]\n",
      "100%|████████| 59/59 [00:01<00:00,  1.10s/trial, best loss: 0.07692307692307687]\n",
      "100%|████████| 60/60 [00:01<00:00,  1.10s/trial, best loss: 0.07692307692307687]\n",
      "100%|████████| 61/61 [00:01<00:00,  1.08s/trial, best loss: 0.07692307692307687]\n",
      "100%|████████| 62/62 [00:01<00:00,  1.14s/trial, best loss: 0.07692307692307687]\n",
      "100%|████████| 63/63 [00:01<00:00,  1.10s/trial, best loss: 0.07692307692307687]\n",
      "100%|████████| 64/64 [00:01<00:00,  1.08s/trial, best loss: 0.07692307692307687]\n",
      "100%|████████| 65/65 [00:01<00:00,  1.09s/trial, best loss: 0.07692307692307687]\n",
      "100%|████████| 66/66 [00:01<00:00,  1.10s/trial, best loss: 0.07692307692307687]\n",
      "100%|████████| 67/67 [00:01<00:00,  1.10s/trial, best loss: 0.07692307692307687]\n",
      "100%|████████| 68/68 [00:01<00:00,  1.10s/trial, best loss: 0.07692307692307687]\n",
      "100%|████████| 69/69 [00:01<00:00,  1.10s/trial, best loss: 0.07692307692307687]\n",
      "100%|████████| 70/70 [00:01<00:00,  1.10s/trial, best loss: 0.07692307692307687]\n",
      "100%|████████| 71/71 [00:01<00:00,  1.11s/trial, best loss: 0.07692307692307687]\n",
      "100%|████████| 72/72 [00:01<00:00,  1.10s/trial, best loss: 0.07692307692307687]\n",
      "100%|████████| 73/73 [00:01<00:00,  1.11s/trial, best loss: 0.07692307692307687]\n",
      "100%|████████| 74/74 [00:01<00:00,  1.09s/trial, best loss: 0.07692307692307687]\n",
      "100%|████████| 75/75 [00:01<00:00,  1.11s/trial, best loss: 0.07692307692307687]\n",
      "100%|████████| 76/76 [00:01<00:00,  1.10s/trial, best loss: 0.07692307692307687]\n",
      "100%|████████| 77/77 [00:01<00:00,  1.16s/trial, best loss: 0.07692307692307687]\n",
      "100%|████████| 78/78 [00:01<00:00,  1.10s/trial, best loss: 0.07692307692307687]\n",
      "100%|████████| 79/79 [00:01<00:00,  1.10s/trial, best loss: 0.07692307692307687]\n",
      "100%|████████| 80/80 [00:01<00:00,  1.15s/trial, best loss: 0.07692307692307687]\n",
      "100%|████████| 81/81 [00:01<00:00,  1.10s/trial, best loss: 0.07692307692307687]\n",
      "100%|████████| 82/82 [00:01<00:00,  1.11s/trial, best loss: 0.07692307692307687]\n",
      "100%|████████| 83/83 [00:01<00:00,  1.10s/trial, best loss: 0.07692307692307687]\n",
      "100%|████████| 84/84 [00:01<00:00,  1.11s/trial, best loss: 0.07692307692307687]\n",
      "100%|████████| 85/85 [00:01<00:00,  1.11s/trial, best loss: 0.07692307692307687]\n",
      "100%|████████| 86/86 [00:01<00:00,  1.10s/trial, best loss: 0.07692307692307687]\n",
      "100%|████████| 87/87 [00:01<00:00,  1.15s/trial, best loss: 0.07692307692307687]\n",
      "100%|████████| 88/88 [00:01<00:00,  1.11s/trial, best loss: 0.07692307692307687]\n",
      "100%|████████| 89/89 [00:01<00:00,  1.11s/trial, best loss: 0.07692307692307687]\n",
      "100%|████████| 90/90 [00:01<00:00,  1.09s/trial, best loss: 0.07692307692307687]\n",
      "100%|████████| 91/91 [00:01<00:00,  1.09s/trial, best loss: 0.07692307692307687]\n",
      "100%|████████| 92/92 [00:01<00:00,  1.10s/trial, best loss: 0.07692307692307687]\n",
      "100%|████████| 93/93 [00:01<00:00,  1.08s/trial, best loss: 0.07692307692307687]\n",
      "100%|████████| 94/94 [00:01<00:00,  1.09s/trial, best loss: 0.07692307692307687]\n",
      "100%|████████| 95/95 [00:01<00:00,  1.16s/trial, best loss: 0.07692307692307687]\n",
      "100%|████████| 96/96 [00:01<00:00,  1.11s/trial, best loss: 0.07692307692307687]\n",
      "100%|████████| 97/97 [00:01<00:00,  1.11s/trial, best loss: 0.07692307692307687]\n",
      "100%|████████| 98/98 [00:01<00:00,  1.11s/trial, best loss: 0.07692307692307687]\n",
      "100%|████████| 99/99 [00:01<00:00,  1.09s/trial, best loss: 0.07692307692307687]\n",
      "100%|██████| 100/100 [00:01<00:00,  1.10s/trial, best loss: 0.07692307692307687]\n"
     ]
    }
   ],
   "source": [
    "# 1. Initialize a dataframe\n",
    "model_results_auto = pd.DataFrame(columns = ['classifier', 'test_acc', 'best_params'])\n",
    "\n",
    "# 2. Classifier labels\n",
    "names_auto = [\n",
    "    \"Gradient Boosting Classifier\",\n",
    "    \"LDA\",\n",
    "    \"Random Forest\",\n",
    "    \"AdaBoost\",\n",
    "    \"Logistic Regression\"\n",
    "]\n",
    "\n",
    "# 3. Classifier classes\n",
    "classifiers_auto = [\n",
    "    gradient_boosting_classifier(\"gbc\"),\n",
    "    linear_discriminant_analysis('lda'),\n",
    "    random_forest_classifier('rf'), \n",
    "    ada_boost_classifier('ada'), \n",
    "    logistic_regression('logreg')\n",
    "]\n",
    "\n",
    "# 4. Iterate over all classifiers\n",
    "for i in range(len(classifiers_auto)):\n",
    "    print()\n",
    "    print(f'Using the *{names_auto[i]}* for estimation.')\n",
    "    \n",
    "    # Objective function\n",
    "    estim = HyperoptEstimator(classifier = classifiers_auto[i],\n",
    "                                    #  preprocessing=[],\n",
    "                                      algo=tpe.suggest,\n",
    "                                      max_evals=100)\n",
    "    try:\n",
    "        # Fit the model\n",
    "        estim.fit(X_train, y_train)\n",
    "        \n",
    "        # Add the results to df\n",
    "        model_results_auto = model_results_auto.append(\n",
    "            {'classifier': names_auto[i], \n",
    "            # 'runtime_hpo': best_time,\n",
    "             'test_acc': estim.score(X_test, y_test),\n",
    "             'best_params': estim.best_model()\n",
    "             }, \n",
    "            ignore_index = True)\n",
    "    except:\n",
    "        print('Model with params not computed')\n",
    "        # Append the name but assign None-values to fields\n",
    "        model_results_auto = model_results_auto.append(\n",
    "            {'classifier': names_auto[i], \n",
    "            # 'runtime_hpo': best_time,\n",
    "             'test_acc': None,\n",
    "             'best_params': None\n",
    "             }, \n",
    "            ignore_index = True)\n",
    "\n",
    "model_results_auto = model_results_auto.sort_values(['test_acc'], ascending = False).reset_index(drop = True)"
   ]
  },
  {
   "cell_type": "markdown",
   "id": "4a34a7ec",
   "metadata": {},
   "source": [
    "Look at the results table:"
   ]
  },
  {
   "cell_type": "code",
   "execution_count": 11,
   "id": "765af402",
   "metadata": {
    "scrolled": true
   },
   "outputs": [
    {
     "data": {
      "text/html": [
       "<div>\n",
       "<style scoped>\n",
       "    .dataframe tbody tr th:only-of-type {\n",
       "        vertical-align: middle;\n",
       "    }\n",
       "\n",
       "    .dataframe tbody tr th {\n",
       "        vertical-align: top;\n",
       "    }\n",
       "\n",
       "    .dataframe thead th {\n",
       "        text-align: right;\n",
       "    }\n",
       "</style>\n",
       "<table border=\"1\" class=\"dataframe\">\n",
       "  <thead>\n",
       "    <tr style=\"text-align: right;\">\n",
       "      <th></th>\n",
       "      <th>classifier</th>\n",
       "      <th>test_acc</th>\n",
       "      <th>best_params</th>\n",
       "    </tr>\n",
       "  </thead>\n",
       "  <tbody>\n",
       "    <tr>\n",
       "      <th>0</th>\n",
       "      <td>Gradient Boosting Classifier</td>\n",
       "      <td>0.897436</td>\n",
       "      <td>{'learner': ([DecisionTreeRegressor(criterion=...</td>\n",
       "    </tr>\n",
       "    <tr>\n",
       "      <th>1</th>\n",
       "      <td>Logistic Regression</td>\n",
       "      <td>0.897436</td>\n",
       "      <td>{'learner': LogisticRegression(C=1.62874169142...</td>\n",
       "    </tr>\n",
       "    <tr>\n",
       "      <th>2</th>\n",
       "      <td>AdaBoost</td>\n",
       "      <td>0.891026</td>\n",
       "      <td>{'learner': (DecisionTreeClassifier(max_depth=...</td>\n",
       "    </tr>\n",
       "    <tr>\n",
       "      <th>3</th>\n",
       "      <td>Random Forest</td>\n",
       "      <td>0.878205</td>\n",
       "      <td>{'learner': (DecisionTreeClassifier(criterion=...</td>\n",
       "    </tr>\n",
       "    <tr>\n",
       "      <th>4</th>\n",
       "      <td>LDA</td>\n",
       "      <td>NaN</td>\n",
       "      <td>None</td>\n",
       "    </tr>\n",
       "  </tbody>\n",
       "</table>\n",
       "</div>"
      ],
      "text/plain": [
       "                     classifier  test_acc  \\\n",
       "0  Gradient Boosting Classifier  0.897436   \n",
       "1           Logistic Regression  0.897436   \n",
       "2                      AdaBoost  0.891026   \n",
       "3                 Random Forest  0.878205   \n",
       "4                           LDA       NaN   \n",
       "\n",
       "                                         best_params  \n",
       "0  {'learner': ([DecisionTreeRegressor(criterion=...  \n",
       "1  {'learner': LogisticRegression(C=1.62874169142...  \n",
       "2  {'learner': (DecisionTreeClassifier(max_depth=...  \n",
       "3  {'learner': (DecisionTreeClassifier(criterion=...  \n",
       "4                                               None  "
      ]
     },
     "execution_count": 11,
     "metadata": {},
     "output_type": "execute_result"
    }
   ],
   "source": [
    "model_results_auto"
   ]
  },
  {
   "cell_type": "markdown",
   "id": "75703c96",
   "metadata": {},
   "source": [
    "# Significance testing \n",
    "In the below section, we will test whether the differences between the models are statistically significant. For that, we will use pairwise McNemar test to compare each model with each other. P-values have the continuity correction.\n",
    "\n",
    "We first start by defining the helper function for the pairwise McNemar test."
   ]
  },
  {
   "cell_type": "code",
   "execution_count": 86,
   "id": "8327e546",
   "metadata": {},
   "outputs": [],
   "source": [
    "# McNemar test for practice sessions/homeworks into a function\n",
    "def mcnemar_test(ground_truth, preds1, preds2):\n",
    "    \"\"\"Get the McNemar test results for comparison between two models\n",
    "    Args: \n",
    "        ground_truth (np.array): the ground truth, an np.array (usually y_test)\n",
    "        preds1 (np.array): predictions from Model 1\n",
    "        preds2 (np.array): predictions from Model 2\n",
    "    Returns:\n",
    "        statistic (float): McNemar statistic\n",
    "        pvalue (float): p-value of the significance test\n",
    "    \"\"\"\n",
    "    \n",
    "    ## Create the prediction data set\n",
    "    mc_data = pd.DataFrame()\n",
    "    mc_data[\"ground_truth\"] = y_test.tolist()\n",
    "    mc_data[\"y_pred1\"] = preds1.tolist()\n",
    "    mc_data[\"y_pred2\"] = preds2.tolist()\n",
    "    # mc_data.head(5)\n",
    "\n",
    "    ## Create the contingency table\n",
    "    mc_data.loc[mc_data['ground_truth']==mc_data['y_pred1'],'correct_pred1']=\"Yes\"\n",
    "    mc_data.loc[mc_data['ground_truth']!=mc_data['y_pred1'],'correct_pred1']=\"No\"\n",
    "    mc_data.loc[mc_data['ground_truth']==mc_data['y_pred2'],'correct_pred2']=\"Yes\"\n",
    "    mc_data.loc[mc_data['ground_truth']!=mc_data['y_pred2'],'correct_pred2']=\"No\"\n",
    "\n",
    "    contingency_table_df=pd.DataFrame(data={\"nr_correct_pred1\":[\"Yes/Yes\",\"No/Yes\"], \n",
    "                                            \"nr_incorrect_pred1\":[\"Yes/No\",\"No/No\"]}, \n",
    "                                      index=[\"nr_correct_pred2\",\"nr_incorrect_pred2\"])\n",
    "\n",
    "    ## Add the numbers to contingency tables\n",
    "    nr_corr_pred2_corr_pred1=0\n",
    "    nr_corr_pred2_incorr_pred1=0\n",
    "    nr_incorr_pred2_corr_pred1=0\n",
    "    nr_incorr_pred2_incorr_pred1=0\n",
    "    for index, row in mc_data.iterrows():\n",
    "        if  row['correct_pred2']== \"Yes\" and  row['correct_pred1']==\"Yes\":\n",
    "            nr_corr_pred2_corr_pred1+=1\n",
    "        elif row['correct_pred2']== \"Yes\" and  row['correct_pred1']==\"No\":\n",
    "            nr_corr_pred2_incorr_pred1+=1\n",
    "        elif row['correct_pred2']== \"No\" and  row['correct_pred1']==\"Yes\":\n",
    "            nr_incorr_pred2_corr_pred1+=1\n",
    "        elif row['correct_pred2']== \"No\" and  row['correct_pred1']==\"No\":\n",
    "            nr_incorr_pred2_incorr_pred1+=1\n",
    "\n",
    "    contingency_table_df.iloc[0,0]=nr_corr_pred2_corr_pred1\n",
    "    contingency_table_df.iloc[0,1]=nr_corr_pred2_incorr_pred1\n",
    "    contingency_table_df.iloc[1,0]=nr_incorr_pred2_corr_pred1\n",
    "    contingency_table_df.iloc[1,1]=nr_incorr_pred2_incorr_pred1\n",
    "\n",
    "    # Calculate The McNemar test statistic and p-value\n",
    "    mc_results = mcnemar(contingency_table_df, exact=False, correction=True)\n",
    "    return mc_results"
   ]
  },
  {
   "cell_type": "markdown",
   "id": "0ca0e9c7",
   "metadata": {},
   "source": [
    "Next, we iterate over all models and compare their performance against all other models."
   ]
  },
  {
   "cell_type": "code",
   "execution_count": 138,
   "id": "f027fa5a",
   "metadata": {},
   "outputs": [],
   "source": [
    "# Find the classifier\n",
    "df_sig = pd.DataFrame(columns = ['model1', 'model2', 'mc_stat', 'pvalue_adj'])\n",
    "\n",
    "## Ground truth\n",
    "ground_truth = y_test\n",
    "\n",
    "comparisons = []\n",
    "\n",
    "for i in range(len(model_results)):\n",
    "    for j in range(len(model_results)-1):\n",
    "        # Names of models\n",
    "        name1 = model_results['classifier'][i]\n",
    "        name2 = model_results['classifier'][j+1]\n",
    "        \n",
    "        if name1 == name2: # no point in comparing the model with self\n",
    "            pass\n",
    "        else:\n",
    "            comparison = list(set((name1, name2))) # no point in duplicating comparisons\n",
    "        \n",
    "            if comparison not in comparisons:\n",
    "                comparisons.append(comparison)\n",
    "                \n",
    "                # Model 1\n",
    "                idx1 = int(np.where(np.array(names) == name1)[0])\n",
    "                classifier1 = classifiers[idx1]\n",
    "                best_params1 = model_results['best_params'][i]\n",
    "                best_model1 = classifier1.set_params(**best_params1).fit(X_train, y_train)\n",
    "                preds1 = best_model1.predict(X_test)\n",
    "\n",
    "                ## Model 2\n",
    "                idx2 = int(np.where(np.array(names) == model_results['classifier'][j+1])[0])\n",
    "                classifier2 = classifiers[idx2]\n",
    "                best_params2 = model_results['best_params'][j+1]\n",
    "                best_model2 = classifier2.set_params(**best_params2).fit(X_train, y_train)\n",
    "                preds2 = best_model2.predict(X_test)\n",
    "\n",
    "                # McNemar test\n",
    "                mc = mcnemar_test(ground_truth, preds1, preds2)\n",
    "                pvalue, statistic = mc.pvalue, mc.statistic\n",
    "                \n",
    "                # Append to the dataframe\n",
    "                df_sig = df_sig.append({'model1': name1, \n",
    "                               'model2': name2, \n",
    "                               'mc_stat': statistic, \n",
    "                               'pvalue_adj': pvalue}, ignore_index = True)\n",
    "            else:\n",
    "                pass\n"
   ]
  },
  {
   "cell_type": "markdown",
   "id": "3304d6dc",
   "metadata": {},
   "source": [
    "Let's look at the pairwise differences table. Just a reminder that p-values have the continuity correction."
   ]
  },
  {
   "cell_type": "code",
   "execution_count": 139,
   "id": "26ee411f",
   "metadata": {
    "scrolled": true
   },
   "outputs": [
    {
     "data": {
      "text/html": [
       "<div>\n",
       "<style scoped>\n",
       "    .dataframe tbody tr th:only-of-type {\n",
       "        vertical-align: middle;\n",
       "    }\n",
       "\n",
       "    .dataframe tbody tr th {\n",
       "        vertical-align: top;\n",
       "    }\n",
       "\n",
       "    .dataframe thead th {\n",
       "        text-align: right;\n",
       "    }\n",
       "</style>\n",
       "<table border=\"1\" class=\"dataframe\">\n",
       "  <thead>\n",
       "    <tr style=\"text-align: right;\">\n",
       "      <th></th>\n",
       "      <th>model1</th>\n",
       "      <th>model2</th>\n",
       "      <th>mc_stat</th>\n",
       "      <th>pvalue_adj</th>\n",
       "    </tr>\n",
       "  </thead>\n",
       "  <tbody>\n",
       "    <tr>\n",
       "      <th>0</th>\n",
       "      <td>AdaBoost</td>\n",
       "      <td>Random Forest</td>\n",
       "      <td>140.007042</td>\n",
       "      <td>2.652612e-32</td>\n",
       "    </tr>\n",
       "    <tr>\n",
       "      <th>1</th>\n",
       "      <td>AdaBoost</td>\n",
       "      <td>Gradient Boosting Classifier</td>\n",
       "      <td>137.007194</td>\n",
       "      <td>1.201490e-31</td>\n",
       "    </tr>\n",
       "    <tr>\n",
       "      <th>2</th>\n",
       "      <td>AdaBoost</td>\n",
       "      <td>LDA</td>\n",
       "      <td>135.007299</td>\n",
       "      <td>3.289573e-31</td>\n",
       "    </tr>\n",
       "    <tr>\n",
       "      <th>3</th>\n",
       "      <td>AdaBoost</td>\n",
       "      <td>Logistic Regression</td>\n",
       "      <td>131.007519</td>\n",
       "      <td>2.466702e-30</td>\n",
       "    </tr>\n",
       "    <tr>\n",
       "      <th>4</th>\n",
       "      <td>Random Forest</td>\n",
       "      <td>Gradient Boosting Classifier</td>\n",
       "      <td>134.007353</td>\n",
       "      <td>5.443351e-31</td>\n",
       "    </tr>\n",
       "    <tr>\n",
       "      <th>5</th>\n",
       "      <td>Random Forest</td>\n",
       "      <td>LDA</td>\n",
       "      <td>135.007299</td>\n",
       "      <td>3.289573e-31</td>\n",
       "    </tr>\n",
       "    <tr>\n",
       "      <th>6</th>\n",
       "      <td>Random Forest</td>\n",
       "      <td>Logistic Regression</td>\n",
       "      <td>130.007576</td>\n",
       "      <td>4.082167e-30</td>\n",
       "    </tr>\n",
       "    <tr>\n",
       "      <th>7</th>\n",
       "      <td>Gradient Boosting Classifier</td>\n",
       "      <td>LDA</td>\n",
       "      <td>129.007634</td>\n",
       "      <td>6.755805e-30</td>\n",
       "    </tr>\n",
       "    <tr>\n",
       "      <th>8</th>\n",
       "      <td>Gradient Boosting Classifier</td>\n",
       "      <td>Logistic Regression</td>\n",
       "      <td>129.007634</td>\n",
       "      <td>6.755805e-30</td>\n",
       "    </tr>\n",
       "    <tr>\n",
       "      <th>9</th>\n",
       "      <td>LDA</td>\n",
       "      <td>Logistic Regression</td>\n",
       "      <td>130.007576</td>\n",
       "      <td>4.082167e-30</td>\n",
       "    </tr>\n",
       "  </tbody>\n",
       "</table>\n",
       "</div>"
      ],
      "text/plain": [
       "                         model1                        model2     mc_stat  \\\n",
       "0                      AdaBoost                 Random Forest  140.007042   \n",
       "1                      AdaBoost  Gradient Boosting Classifier  137.007194   \n",
       "2                      AdaBoost                           LDA  135.007299   \n",
       "3                      AdaBoost           Logistic Regression  131.007519   \n",
       "4                 Random Forest  Gradient Boosting Classifier  134.007353   \n",
       "5                 Random Forest                           LDA  135.007299   \n",
       "6                 Random Forest           Logistic Regression  130.007576   \n",
       "7  Gradient Boosting Classifier                           LDA  129.007634   \n",
       "8  Gradient Boosting Classifier           Logistic Regression  129.007634   \n",
       "9                           LDA           Logistic Regression  130.007576   \n",
       "\n",
       "     pvalue_adj  \n",
       "0  2.652612e-32  \n",
       "1  1.201490e-31  \n",
       "2  3.289573e-31  \n",
       "3  2.466702e-30  \n",
       "4  5.443351e-31  \n",
       "5  3.289573e-31  \n",
       "6  4.082167e-30  \n",
       "7  6.755805e-30  \n",
       "8  6.755805e-30  \n",
       "9  4.082167e-30  "
      ]
     },
     "execution_count": 139,
     "metadata": {},
     "output_type": "execute_result"
    }
   ],
   "source": [
    "df_sig"
   ]
  },
  {
   "cell_type": "markdown",
   "id": "a3d84d92",
   "metadata": {},
   "source": [
    "<font color= 'red'> Something's probably not right here. RF and GBC have the same test accuracy yet they are different here... </font>"
   ]
  }
 ],
 "metadata": {
  "kernelspec": {
   "display_name": "Python 3 (ipykernel)",
   "language": "python",
   "name": "python3"
  },
  "language_info": {
   "codemirror_mode": {
    "name": "ipython",
    "version": 3
   },
   "file_extension": ".py",
   "mimetype": "text/x-python",
   "name": "python",
   "nbconvert_exporter": "python",
   "pygments_lexer": "ipython3",
   "version": "3.9.15"
  }
 },
 "nbformat": 4,
 "nbformat_minor": 5
}
